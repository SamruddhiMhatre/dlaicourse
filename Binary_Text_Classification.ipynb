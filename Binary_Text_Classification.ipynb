{
  "nbformat": 4,
  "nbformat_minor": 0,
  "metadata": {
    "colab": {
      "name": "Binary Text Classification.ipynb",
      "provenance": [],
      "collapsed_sections": [],
      "mount_file_id": "1UxyBken4e0WFwJjlCI5g79tf8uUlrQQ9",
      "authorship_tag": "ABX9TyMClAS0ZR+SU6ifgVhMRNl+",
      "include_colab_link": true
    },
    "kernelspec": {
      "name": "python3",
      "display_name": "Python 3"
    },
    "language_info": {
      "name": "python"
    }
  },
  "cells": [
    {
      "cell_type": "markdown",
      "metadata": {
        "id": "view-in-github",
        "colab_type": "text"
      },
      "source": [
        "<a href=\"https://colab.research.google.com/github/SamruddhiMhatre/dlaicourse/blob/master/Binary_Text_Classification.ipynb\" target=\"_parent\"><img src=\"https://colab.research.google.com/assets/colab-badge.svg\" alt=\"Open In Colab\"/></a>"
      ]
    },
    {
      "cell_type": "code",
      "metadata": {
        "id": "1ZXcFCuwStrY"
      },
      "source": [
        "import matplotlib.pyplot as plt\n",
        "import numpy as np\n",
        "import csv\n",
        "from tensorflow.keras.preprocessing.text import Tokenizer\n",
        "from tensorflow.keras.preprocessing.sequence import pad_sequences\n",
        "import os\n",
        "import re\n",
        "import shutil\n",
        "import string\n",
        "import tensorflow as tf\n",
        "\n",
        "from tensorflow.keras import layers\n",
        "from tensorflow.keras import losses\n",
        "from tensorflow.keras import preprocessing\n",
        "from tensorflow.keras.layers.experimental.preprocessing import TextVectorization"
      ],
      "execution_count": 43,
      "outputs": []
    },
    {
      "cell_type": "code",
      "metadata": {
        "colab": {
          "base_uri": "https://localhost:8080/"
        },
        "id": "1IrQFHugTAUV",
        "outputId": "ab0a8ce0-2b4f-4839-c8f5-f3839ee7da72"
      },
      "source": [
        "print(tf.__version__)"
      ],
      "execution_count": 4,
      "outputs": [
        {
          "output_type": "stream",
          "text": [
            "2.5.0\n"
          ],
          "name": "stdout"
        }
      ]
    },
    {
      "cell_type": "markdown",
      "metadata": {
        "id": "5yAvYbZIZ8qP"
      },
      "source": [
        "Importing data from directory"
      ]
    },
    {
      "cell_type": "code",
      "metadata": {
        "id": "avB_kF9FS3CZ",
        "colab": {
          "base_uri": "https://localhost:8080/"
        },
        "outputId": "78a557ab-c2b3-41c5-a9b1-f903a0738da5"
      },
      "source": [
        "url = \"https://ai.stanford.edu/~amaas/data/sentiment/aclImdb_v1.tar.gz\"\n",
        "\n",
        "dataset = tf.keras.utils.get_file(\"aclImdb_v1\", url,\n",
        "                                    untar=True, cache_dir='.',\n",
        "                                    cache_subdir='')\n",
        "\n",
        "dataset_dir = os.path.join(os.path.dirname(dataset), 'aclImdb')"
      ],
      "execution_count": 5,
      "outputs": [
        {
          "output_type": "stream",
          "text": [
            "Downloading data from https://ai.stanford.edu/~amaas/data/sentiment/aclImdb_v1.tar.gz\n",
            "84131840/84125825 [==============================] - 6s 0us/step\n"
          ],
          "name": "stdout"
        }
      ]
    },
    {
      "cell_type": "code",
      "metadata": {
        "colab": {
          "base_uri": "https://localhost:8080/"
        },
        "id": "D4FYF5c8S45e",
        "outputId": "15d8ba91-298f-4a3d-dd75-c9363567f4d1"
      },
      "source": [
        "os.listdir(dataset_dir)"
      ],
      "execution_count": 6,
      "outputs": [
        {
          "output_type": "execute_result",
          "data": {
            "text/plain": [
              "['imdb.vocab', 'README', 'test', 'imdbEr.txt', 'train']"
            ]
          },
          "metadata": {
            "tags": []
          },
          "execution_count": 6
        }
      ]
    },
    {
      "cell_type": "code",
      "metadata": {
        "colab": {
          "base_uri": "https://localhost:8080/"
        },
        "id": "-Zd2s26zTOov",
        "outputId": "c03a5dca-9383-44a7-ffd6-4517ec2e82ee"
      },
      "source": [
        "train_dir = os.path.join(dataset_dir, 'train')\n",
        "os.listdir(train_dir)\n"
      ],
      "execution_count": 7,
      "outputs": [
        {
          "output_type": "execute_result",
          "data": {
            "text/plain": [
              "['urls_neg.txt',\n",
              " 'unsup',\n",
              " 'labeledBow.feat',\n",
              " 'urls_pos.txt',\n",
              " 'urls_unsup.txt',\n",
              " 'neg',\n",
              " 'pos',\n",
              " 'unsupBow.feat']"
            ]
          },
          "metadata": {
            "tags": []
          },
          "execution_count": 7
        }
      ]
    },
    {
      "cell_type": "code",
      "metadata": {
        "colab": {
          "base_uri": "https://localhost:8080/"
        },
        "id": "jtVK9WveTqVb",
        "outputId": "a0028721-7012-4df0-875f-6f533faaa5e3"
      },
      "source": [
        "sample_file = os.path.join(train_dir, 'pos/1181_9.txt')\n",
        "with open(sample_file) as f:\n",
        "  print(f.read())"
      ],
      "execution_count": 8,
      "outputs": [
        {
          "output_type": "stream",
          "text": [
            "Rachel Griffiths writes and directs this award winning short film. A heartwarming story about coping with grief and cherishing the memory of those we've loved and lost. Although, only 15 minutes long, Griffiths manages to capture so much emotion and truth onto film in the short space of time. Bud Tingwell gives a touching performance as Will, a widower struggling to cope with his wife's death. Will is confronted by the harsh reality of loneliness and helplessness as he proceeds to take care of Ruth's pet cow, Tulip. The film displays the grief and responsibility one feels for those they have loved and lost. Good cinematography, great direction, and superbly acted. It will bring tears to all those who have lost a loved one, and survived.\n"
          ],
          "name": "stdout"
        }
      ]
    },
    {
      "cell_type": "code",
      "metadata": {
        "id": "QxrgQmVNTzpd"
      },
      "source": [
        "remove_dir = os.path.join(train_dir, 'unsup')\n",
        "shutil.rmtree(remove_dir)\n"
      ],
      "execution_count": 9,
      "outputs": []
    },
    {
      "cell_type": "code",
      "metadata": {
        "colab": {
          "base_uri": "https://localhost:8080/",
          "height": 37
        },
        "id": "Fe3BknXgcWZa",
        "outputId": "32ae9988-f604-4029-9257-336dba218f6a"
      },
      "source": [
        "remove_dir"
      ],
      "execution_count": 10,
      "outputs": [
        {
          "output_type": "execute_result",
          "data": {
            "application/vnd.google.colaboratory.intrinsic+json": {
              "type": "string"
            },
            "text/plain": [
              "'./aclImdb/train/unsup'"
            ]
          },
          "metadata": {
            "tags": []
          },
          "execution_count": 10
        }
      ]
    },
    {
      "cell_type": "markdown",
      "metadata": {
        "id": "dvSAX6ttSndN"
      },
      "source": [
        "[Text Data from Directory](https://www.tensorflow.org/api_docs/python/tf/keras/preprocessing/text_dataset_from_directory)"
      ]
    },
    {
      "cell_type": "code",
      "metadata": {
        "colab": {
          "base_uri": "https://localhost:8080/"
        },
        "id": "aXUp6CTkcaly",
        "outputId": "a46ded74-1213-4eb9-e2f2-6d82a1abda7f"
      },
      "source": [
        "batch_size = 32\n",
        "seed = 42\n",
        "\n",
        "# train\n",
        "raw_train_ds = tf.keras.preprocessing.text_dataset_from_directory(\n",
        "    'aclImdb/train',\n",
        "    seed = seed,\n",
        "    batch_size = batch_size,\n",
        "    validation_split = 0.2,\n",
        "    subset = 'training'\n",
        ")\n",
        "\n",
        "print('Number of batches in training set: ', tf.data.experimental.cardinality(raw_train_ds), '\\n')\n",
        "\n",
        "\n",
        "# validation \n",
        "raw_val_ds = tf.keras.preprocessing.text_dataset_from_directory(\n",
        "    'aclImdb/train',\n",
        "    seed = seed,\n",
        "    batch_size = batch_size,\n",
        "    validation_split = 0.2,\n",
        "    subset = 'validation'\n",
        ")\n",
        "\n",
        "print('Number of batches in validation set: ', tf.data.experimental.cardinality(raw_val_ds),'\\n')\n",
        "\n",
        "\n",
        "# test \n",
        "raw_test_ds = tf.keras.preprocessing.text_dataset_from_directory(\n",
        "    'aclImdb/train',\n",
        "    batch_size = batch_size\n",
        ")\n",
        "\n",
        "print('Number of batches in testing set: ', tf.data.experimental.cardinality(raw_test_ds))"
      ],
      "execution_count": 19,
      "outputs": [
        {
          "output_type": "stream",
          "text": [
            "Found 25000 files belonging to 2 classes.\n",
            "Using 20000 files for training.\n",
            "Number of batches in training set:  tf.Tensor(625, shape=(), dtype=int64) \n",
            "\n",
            "Found 25000 files belonging to 2 classes.\n",
            "Using 5000 files for validation.\n",
            "Number of batches in validation set:  tf.Tensor(157, shape=(), dtype=int64) \n",
            "\n",
            "Found 25000 files belonging to 2 classes.\n",
            "Number of batches in testing set:  tf.Tensor(782, shape=(), dtype=int64)\n"
          ],
          "name": "stdout"
        }
      ]
    },
    {
      "cell_type": "code",
      "metadata": {
        "colab": {
          "base_uri": "https://localhost:8080/"
        },
        "id": "KR3IGsK3-bdu",
        "outputId": "93179438-0b91-411c-cac5-f13752dad03a"
      },
      "source": [
        "for text_batch, label_batch in raw_train_ds.take(2):\n",
        "  for i in range(3):\n",
        "    print(\"Review\", text_batch.numpy()[i])\n",
        "    print(\"Label\", label_batch.numpy()[i])"
      ],
      "execution_count": 37,
      "outputs": [
        {
          "output_type": "stream",
          "text": [
            "Review b'Silent Night, Deadly Night 5 is the very last of the series, and like part 4, it\\'s unrelated to the first three except by title and the fact that it\\'s a Christmas-themed horror flick.<br /><br />Except to the oblivious, there\\'s some obvious things going on here...Mickey Rooney plays a toymaker named Joe Petto and his creepy son\\'s name is Pino. Ring a bell, anyone? Now, a little boy named Derek heard a knock at the door one evening, and opened it to find a present on the doorstep for him. Even though it said \"don\\'t open till Christmas\", he begins to open it anyway but is stopped by his dad, who scolds him and sends him to bed, and opens the gift himself. Inside is a little red ball that sprouts Santa arms and a head, and proceeds to kill dad. Oops, maybe he should have left well-enough alone. Of course Derek is then traumatized by the incident since he watched it from the stairs, but he doesn\\'t grow up to be some killer Santa, he just stops talking.<br /><br />There\\'s a mysterious stranger lurking around, who seems very interested in the toys that Joe Petto makes. We even see him buying a bunch when Derek\\'s mom takes him to the store to find a gift for him to bring him out of his trauma. And what exactly is this guy doing? Well, we\\'re not sure but he does seem to be taking these toys apart to see what makes them tick. He does keep his landlord from evicting him by promising him to pay him in cash the next day and presents him with a \"Larry the Larvae\" toy for his kid, but of course \"Larry\" is not a good toy and gets out of the box in the car and of course, well, things aren\\'t pretty.<br /><br />Anyway, eventually what\\'s going on with Joe Petto and Pino is of course revealed, and as with the old story, Pino is not a \"real boy\". Pino is probably even more agitated and naughty because he suffers from \"Kenitalia\" (a smooth plastic crotch) so that could account for his evil ways. And the identity of the lurking stranger is revealed too, and there\\'s even kind of a happy ending of sorts. Whee.<br /><br />A step up from part 4, but not much of one. Again, Brian Yuzna is involved, and Screaming Mad George, so some decent special effects, but not enough to make this great. A few leftovers from part 4 are hanging around too, like Clint Howard and Neith Hunter, but that doesn\\'t really make any difference. Anyway, I now have seeing the whole series out of my system. Now if I could get some of it out of my brain. 4 out of 5.'\n",
            "Label 0\n",
            "Review b\"This Italian film from the '70's is NOT even in the class with Dog Soldiers, The Howling, or even that awful American Werewolf in Paris, BUT...it is fun to watch. I'm talking about watching the lead actress, a stunning blonde, run amok in her birthday suit. We're talking about graphic, complete nudity...it's obvious that she is a real blonde...humma humma humma!! The story is a hoot, the SFX are childish, and the acting (for the most part) stinks. The only redeeming value of this movie is all (and there is a LOT) the nudity & sex scenes. Tame by HBO standards, but still fun to see when you find yourself without a date on Saturday night. OK...HERE'S THE SPOILER...There is NO werewolf (except in the opening scene of the heroine(??)'s ancestor. The girl just imagines that she's a werewolf...in other words, a clinical Lycanthrope.\"\n",
            "Label 0\n",
            "Review b'Mr Perlman gives a standout performance (as usual). Sadly, he has to struggle with an underwritten script and some nonsensical set pieces.<br /><br />Larsen is in \"Die Hard\" mode complete with singlet and bulging muscles, I\\'m sure he could do better but seems satisfied to grimace and snarl through his part.<br /><br />The lovely Erika is very decorative (even though fully clothed!) and shows some signs of \"getting\" acting at last.<br /><br />SFX are mainly poor CGI and steals from other movies.<br /><br />The shootouts are pitiful - worthy of the A-Team<br /><br />Not even worth seeing for Perlman - AVOID'\n",
            "Label 0\n",
            "Review b\"Like most people, i was drawn to buy this film because of the pictures of the mighty Bolo Yeung plastered all over the box, and the assumption (from the aforementioned pictures and the title of the film) that this film is all about the Beast from the East kickin' ass for 90 minutes.<br /><br />However, to my disappointment, Chinese Hercules is to Bolo Yeung what No Retreat No Surrender was to Jean Claude Van Damme and Fearless Tiger was to... erm, Bolo Yeung - maximum exposure on video box, minimum actual screen-time! Oh well! <br /><br />The storyline is pretty basic stuff, but it was well done - peaceful kung fu fighter (played by Chen Hui Min) accidentally kills a man and promises never to fight again. He then runs away to work as a labourer on a pier where he impresses his co-workers with his heavy sack lifting prowess, causing them to suspect him to be a formidable fighter (dont quite know how that works but never mind). Meanwhile, the corrupt boss of the pier does a deal with gangsters, giving them exclusive use of the pier. As a result, the workers are thrown out on their ear and forced to live on the beach, where they unite against their boss, the gangster boss, and his hulking henchman Bolo Yeung.<br /><br />While the film was quite watchable (mainly through waiting for the next glimpse of Bolo), i had a few problems with it - firstly, the bad dubbing, but of course thats a given in old kung fu films. But also, the film tended to drag between the various fight-scenes. And as for the fight scenes themselves, i found them to be over-long, badly choreographed (apparently by Jackie Chan!), badly shot and at times performed by people who didn't seem to have any martial arts ability.... in fact, most of the fights in this film weren't 'fights' at all, just people getting beaten up without offering any resistance!<br /><br />Finally, the hero - played by Chen Hui Min. I've never seen any other films with this guy in, but at no point was i rooting for him. Not only did he look wimpy and on the verge of tears at all times, but i found his insistence on not fighting infuriating! I understood his reasoning, but he could have saved a lot of people a lot of pain if he had done earlier what we all knew he was gonna do eventually, and fight! A bigger mystery was why this entire community of people were pinning their hopes on a guy they've never even seen fight! <br /><br />Really, the big saving grace in this film was the presence of Bolo Yeung. Not only is he as huge and brutal as ever, he has some great, funny lines and gives the rest of the cast a master-class on how to fight on film. The guy oozes screen presence and you can easily see how he became a star. The guy scares the life out of me, but i'm sure i wasn't the only person to have watched this film who was rooting for Bolo all through the end fight! <br /><br />All in all then, a below-average kung-fu film lifted several huge notches due to you-know-who. I've never met a person who didn't think Bolo Yeung was great. The man's a legend!!\"\n",
            "Label 0\n",
            "Review b'This is really a new low in entertainment. Even though there are a lot worse movies out.<br /><br />In the Gangster / Drug scene genre it is hard to have a convincing storyline (this movies does not, i mean Sebastians motives for example couldn\\'t be more far fetched and worn out clich\\xc3\\xa9.) Then you would also need a setting of character relationships that is believable (this movie does not.) <br /><br />Sure Tristan is drawn away from his family but why was that again? what\\'s the deal with his father again that he has to ask permission to go out at his age? interesting picture though to ask about the lack and need of rebellious behavior of kids in upper class family. But this movie does not go in this direction. Even though there would be the potential judging by the random Backflashes. Wasn\\'t he already down and out, why does he do it again? <br /><br />So there are some interesting questions brought up here for a solid socially critic drama (but then again, this movie is just not, because of focusing on \"cool\" production techniques and special effects an not giving the characters a moment to reflect and most of all forcing the story along the path where they want it to be and not paying attention to let the story breath and naturally evolve.) <br /><br />It wants to be a drama to not glorify abuse of substances and violence (would be political incorrect these days, wouldn\\'t it?) but on the other hand it is nothing more then a cheap action movie (like there are so so many out there) with an average set of actors and a Vinnie Jones who is managing to not totally ruin what\\'s left of his reputation by doing what he always does.<br /><br />So all in all i .. just ... can\\'t recommend it.<br /><br />1 for Vinnie and 2 for the editing.'\n",
            "Label 0\n",
            "Review b\"Mild Spoilers<br /><br />In the near future, Arnold stars as Ben Richards, a wrongly convicted man coerced into playing 'The Running Man', a deadly TV game show where people have to keep moving to try and escape brutal deaths at the hands of the 'Stalkers'. Of course, people are expected to die eventually and its up to Arnold to prove the system wrong.<br /><br />I haven't read the Stephen King book, but this is a great film regardless, one of Arnold's best. He does what he does best in the action man role, delivering death with unforgettable one-liners. Classics are probably the 'He was a real pain in the neck' after strangling a guy with barb wire, and 'He had to split!', referring to whereabouts he just chain sawed someone vertically. Dawson is perfectly irritating as the TV presenter, and all the 'Stalkers' are suitably camp. The action is violent, but its an action film. That's the point. The film is fast paced, and at 90 minutes it doesn't overstay its welcome. <br /><br />With Starsky and Hutch's Paul Michael Glaser at the helm, and made in the wake of the success of The Terminator, previously this film was probably seen as just another mindless action vehicle for Arnold, and very far fetched. But today, anyone who watches a lot of TV could see how the film is getting closer to reality. I wouldn't be surprised if I turn on the TV in the 'near future' and see a show not to far from this.<br /><br />On that depressing note, I must however recommend 'The Running Man' to anyone who likes the 80s, Arnold, ridiculous acts or violence or just a good action film. 9. 5 / 10\"\n",
            "Label 1\n"
          ],
          "name": "stdout"
        }
      ]
    },
    {
      "cell_type": "code",
      "metadata": {
        "id": "HMoCxj6a_K5V"
      },
      "source": [
        "train_texts = []\n",
        "train_labels = []\n",
        "\n",
        "for text_batch, label_batch in raw_train_ds:\n",
        "  train_texts.append(text_batch)\n",
        "  train_labels.append(label_batch)\n",
        "\n",
        "\n",
        "val_texts = []\n",
        "val_labels = []\n",
        "\n",
        "for text_batch, label_batch in raw_val_ds:\n",
        "  val_texts.append(text_batch)\n",
        "  val_labels.append(label_batch)\n",
        "\n",
        "\n",
        "test_texts = []\n",
        "test_labels = []\n",
        "\n",
        "for text_batch, label_batch in raw_test_ds:\n",
        "  test_texts.append(text_batch)\n",
        "  test_labels.append(label_batch)"
      ],
      "execution_count": 39,
      "outputs": []
    },
    {
      "cell_type": "code",
      "metadata": {
        "colab": {
          "base_uri": "https://localhost:8080/"
        },
        "id": "LdVSpWSm8mP1",
        "outputId": "8a60b2fd-ec43-4d6f-f165-328e42f61998"
      },
      "source": [
        "print('Lenght of train set:', len(train_texts))\n",
        "print('Train set data type:', type(train_texts))\n",
        "print('Train set shape:', np.asarray(train_texts).shape)"
      ],
      "execution_count": 36,
      "outputs": [
        {
          "output_type": "stream",
          "text": [
            "Lenght of train set: 625\n",
            "Train set data type:  <class 'list'>\n",
            "Train set shape:  (625, 32)\n"
          ],
          "name": "stdout"
        }
      ]
    },
    {
      "cell_type": "code",
      "metadata": {
        "colab": {
          "base_uri": "https://localhost:8080/"
        },
        "id": "_WPHbIwi-MT8",
        "outputId": "cad23f3b-b399-4653-a184-ffb5c13e9d73"
      },
      "source": [
        "print(\"Label 0 corresponds to\", raw_train_ds.class_names[0])\n",
        "print(\"Label 1 corresponds to\", raw_train_ds.class_names[1])"
      ],
      "execution_count": 42,
      "outputs": [
        {
          "output_type": "stream",
          "text": [
            "Label 0 corresponds to neg\n",
            "Label 1 corresponds to pos\n"
          ],
          "name": "stdout"
        }
      ]
    },
    {
      "cell_type": "code",
      "metadata": {
        "id": "yWQ4j7ba_Er-"
      },
      "source": [
        "vocab_size = 1000\n",
        "embedding_dim = 16\n",
        "max_length = 120\n",
        "trunc_type='post'\n",
        "padding_type='post'\n",
        "oov_tok = \"<OOV>\""
      ],
      "execution_count": 38,
      "outputs": []
    },
    {
      "cell_type": "markdown",
      "metadata": {
        "id": "yffXsnhICFOy"
      },
      "source": [
        "The below code snippet does not work on tensorflow object, therefore Tokenizer cannot be used for this purpose. "
      ]
    },
    {
      "cell_type": "code",
      "metadata": {
        "colab": {
          "base_uri": "https://localhost:8080/",
          "height": 375
        },
        "id": "WZDSZ-h3BRly",
        "outputId": "dc4b75e3-3c63-44fa-931c-12e758661e67"
      },
      "source": [
        "tokenizer = Tokenizer(num_words = vocab_size, oov_token=oov_tok)\n",
        "tokenizer.fit_on_texts(train_texts) # error line: AttributeError: 'tensorflow.python.framework.ops.EagerTensor' object has no attribute 'lower'\n",
        "word_index = tokenizer.word_index\n",
        "\n",
        "train_sequences = tokenizer.texts_to_sequences(train_texts)\n",
        "train_padded = pad_sequences(train_sequences, padding=padding_type, maxlen=max_length)\n",
        "\n",
        "print(len(train_sequences[0]))\n",
        "print(len(train_padded[0]))\n",
        "\n",
        "print(len(train_sequences[1]))\n",
        "print(len(train_padded[1]))\n",
        "\n",
        "print(len(train_sequences[10]))\n",
        "print(len(train_padded[10]))"
      ],
      "execution_count": 45,
      "outputs": [
        {
          "output_type": "error",
          "ename": "AttributeError",
          "evalue": "ignored",
          "traceback": [
            "\u001b[0;31m---------------------------------------------------------------------------\u001b[0m",
            "\u001b[0;31mAttributeError\u001b[0m                            Traceback (most recent call last)",
            "\u001b[0;32m<ipython-input-45-e252202026a4>\u001b[0m in \u001b[0;36m<module>\u001b[0;34m()\u001b[0m\n\u001b[1;32m      1\u001b[0m \u001b[0mtokenizer\u001b[0m \u001b[0;34m=\u001b[0m \u001b[0mTokenizer\u001b[0m\u001b[0;34m(\u001b[0m\u001b[0mnum_words\u001b[0m \u001b[0;34m=\u001b[0m \u001b[0mvocab_size\u001b[0m\u001b[0;34m,\u001b[0m \u001b[0moov_token\u001b[0m\u001b[0;34m=\u001b[0m\u001b[0moov_tok\u001b[0m\u001b[0;34m)\u001b[0m\u001b[0;34m\u001b[0m\u001b[0;34m\u001b[0m\u001b[0m\n\u001b[0;32m----> 2\u001b[0;31m \u001b[0mtokenizer\u001b[0m\u001b[0;34m.\u001b[0m\u001b[0mfit_on_texts\u001b[0m\u001b[0;34m(\u001b[0m\u001b[0mtrain_texts\u001b[0m\u001b[0;34m)\u001b[0m\u001b[0;34m\u001b[0m\u001b[0;34m\u001b[0m\u001b[0m\n\u001b[0m\u001b[1;32m      3\u001b[0m \u001b[0mword_index\u001b[0m \u001b[0;34m=\u001b[0m \u001b[0mtokenizer\u001b[0m\u001b[0;34m.\u001b[0m\u001b[0mword_index\u001b[0m\u001b[0;34m\u001b[0m\u001b[0;34m\u001b[0m\u001b[0m\n\u001b[1;32m      4\u001b[0m \u001b[0;34m\u001b[0m\u001b[0m\n\u001b[1;32m      5\u001b[0m \u001b[0mtrain_sequences\u001b[0m \u001b[0;34m=\u001b[0m \u001b[0mtokenizer\u001b[0m\u001b[0;34m.\u001b[0m\u001b[0mtexts_to_sequences\u001b[0m\u001b[0;34m(\u001b[0m\u001b[0mtrain_texts\u001b[0m\u001b[0;34m)\u001b[0m\u001b[0;34m\u001b[0m\u001b[0;34m\u001b[0m\u001b[0m\n",
            "\u001b[0;32m/usr/local/lib/python3.7/dist-packages/keras_preprocessing/text.py\u001b[0m in \u001b[0;36mfit_on_texts\u001b[0;34m(self, texts)\u001b[0m\n\u001b[1;32m    223\u001b[0m                                             \u001b[0mself\u001b[0m\u001b[0;34m.\u001b[0m\u001b[0mfilters\u001b[0m\u001b[0;34m,\u001b[0m\u001b[0;34m\u001b[0m\u001b[0;34m\u001b[0m\u001b[0m\n\u001b[1;32m    224\u001b[0m                                             \u001b[0mself\u001b[0m\u001b[0;34m.\u001b[0m\u001b[0mlower\u001b[0m\u001b[0;34m,\u001b[0m\u001b[0;34m\u001b[0m\u001b[0;34m\u001b[0m\u001b[0m\n\u001b[0;32m--> 225\u001b[0;31m                                             self.split)\n\u001b[0m\u001b[1;32m    226\u001b[0m             \u001b[0;32mfor\u001b[0m \u001b[0mw\u001b[0m \u001b[0;32min\u001b[0m \u001b[0mseq\u001b[0m\u001b[0;34m:\u001b[0m\u001b[0;34m\u001b[0m\u001b[0;34m\u001b[0m\u001b[0m\n\u001b[1;32m    227\u001b[0m                 \u001b[0;32mif\u001b[0m \u001b[0mw\u001b[0m \u001b[0;32min\u001b[0m \u001b[0mself\u001b[0m\u001b[0;34m.\u001b[0m\u001b[0mword_counts\u001b[0m\u001b[0;34m:\u001b[0m\u001b[0;34m\u001b[0m\u001b[0;34m\u001b[0m\u001b[0m\n",
            "\u001b[0;32m/usr/local/lib/python3.7/dist-packages/keras_preprocessing/text.py\u001b[0m in \u001b[0;36mtext_to_word_sequence\u001b[0;34m(text, filters, lower, split)\u001b[0m\n\u001b[1;32m     41\u001b[0m     \"\"\"\n\u001b[1;32m     42\u001b[0m     \u001b[0;32mif\u001b[0m \u001b[0mlower\u001b[0m\u001b[0;34m:\u001b[0m\u001b[0;34m\u001b[0m\u001b[0;34m\u001b[0m\u001b[0m\n\u001b[0;32m---> 43\u001b[0;31m         \u001b[0mtext\u001b[0m \u001b[0;34m=\u001b[0m \u001b[0mtext\u001b[0m\u001b[0;34m.\u001b[0m\u001b[0mlower\u001b[0m\u001b[0;34m(\u001b[0m\u001b[0;34m)\u001b[0m\u001b[0;34m\u001b[0m\u001b[0;34m\u001b[0m\u001b[0m\n\u001b[0m\u001b[1;32m     44\u001b[0m \u001b[0;34m\u001b[0m\u001b[0m\n\u001b[1;32m     45\u001b[0m     \u001b[0;32mif\u001b[0m \u001b[0msys\u001b[0m\u001b[0;34m.\u001b[0m\u001b[0mversion_info\u001b[0m \u001b[0;34m<\u001b[0m \u001b[0;34m(\u001b[0m\u001b[0;36m3\u001b[0m\u001b[0;34m,\u001b[0m\u001b[0;34m)\u001b[0m\u001b[0;34m:\u001b[0m\u001b[0;34m\u001b[0m\u001b[0;34m\u001b[0m\u001b[0m\n",
            "\u001b[0;32m/usr/local/lib/python3.7/dist-packages/tensorflow/python/framework/ops.py\u001b[0m in \u001b[0;36m__getattr__\u001b[0;34m(self, name)\u001b[0m\n\u001b[1;32m    399\u001b[0m         \u001b[0;32mimport\u001b[0m \u001b[0mtensorflow\u001b[0m\u001b[0;34m.\u001b[0m\u001b[0mpython\u001b[0m\u001b[0;34m.\u001b[0m\u001b[0mops\u001b[0m\u001b[0;34m.\u001b[0m\u001b[0mnumpy_ops\u001b[0m\u001b[0;34m.\u001b[0m\u001b[0mnp_config\u001b[0m\u001b[0;34m\u001b[0m\u001b[0;34m\u001b[0m\u001b[0m\n\u001b[1;32m    400\u001b[0m         np_config.enable_numpy_behavior()\"\"\".format(type(self).__name__, name))\n\u001b[0;32m--> 401\u001b[0;31m     \u001b[0mself\u001b[0m\u001b[0;34m.\u001b[0m\u001b[0m__getattribute__\u001b[0m\u001b[0;34m(\u001b[0m\u001b[0mname\u001b[0m\u001b[0;34m)\u001b[0m\u001b[0;34m\u001b[0m\u001b[0;34m\u001b[0m\u001b[0m\n\u001b[0m\u001b[1;32m    402\u001b[0m \u001b[0;34m\u001b[0m\u001b[0m\n\u001b[1;32m    403\u001b[0m   \u001b[0;34m@\u001b[0m\u001b[0mstaticmethod\u001b[0m\u001b[0;34m\u001b[0m\u001b[0;34m\u001b[0m\u001b[0m\n",
            "\u001b[0;31mAttributeError\u001b[0m: 'tensorflow.python.framework.ops.EagerTensor' object has no attribute 'lower'"
          ]
        }
      ]
    },
    {
      "cell_type": "code",
      "metadata": {
        "colab": {
          "base_uri": "https://localhost:8080/"
        },
        "id": "RXc1JojzBjy-",
        "outputId": "e620f409-0c99-4f4f-bd84-d75e4b1f6b89"
      },
      "source": [
        "lowercase = tf.strings.lower(train_texts)\n",
        "lowercase"
      ],
      "execution_count": 47,
      "outputs": [
        {
          "output_type": "execute_result",
          "data": {
            "text/plain": [
              "<tf.Tensor: shape=(625, 32), dtype=string, numpy=\n",
              "array([[b'great movie - especially the music - etta james - \"at last\". this speaks volumes when you have finally found that special someone.',\n",
              "        b\"i am shocked. shocked and dismayed that the 428 of you imdb users who voted before me have not given this film a rating of higher than 7. 7?!?? - that's a c!. if i could give fobh a 20, i'd gladly do it. this film ranks high atop the pantheon of modern comedy, alongside half baked and mallrats, as one of the most hilarious films of all time. if you know _anything_ about rap music - you must see this!! if you know nothing about rap music - learn something!, and then see this! comparisons to 'spinal tap' fail to appreciate the inspired genius of this unique film. if you liked bob roberts, you'll love this. watch it and vote it a 10!\",\n",
              "        b'what a lovely heart warming television movie. the story tells of a little five year old girl who has lost her daddy and finds it impossible to cope. her mother is also very distressed ..only a miracle can alleviate their unhappiness.which all viewers hope will materialise. samantha mathis is brilliant as the little girl\\'s mum ,as she was as the nanny in\" jack and sarah\",worth watching if you like both samantha mathis and happy; year tear jerking movies! ellen burstyn is, as, always a delightful grandmother in this tender and magnificently acted movie. jodelle ferland (the little five year old) is charming and a most convincing young actress. the film is based on a true story which makes it so touching.\"mermaid\" is a tribute to the milk of human kindness which is clearly illustrated and clearly is still all around us in this difficult world we live in. \"mermaid\" gives us all hope ,by realising that there a lot of lovely people in the world with lot\\'s of love to give. james robson glasgow scotland u.k.',\n",
              "        ...,\n",
              "        b'despite the patronage of george lucas, this captivating and totally original fantasy in \"lumage\" (a combination of animation through live action cut-outs) is about as far removed from the usual kiddie fare as anything made by ralph bakshi in his heyday. brilliantly conceived characters such as the shape-shifting dog ralph (one of a duo of bumbling, rejected heroes), synonamess botch (the hilariously foul-mouthed villain) and rod rescueman (the pompous novice superhero) breathe life into a uniquely clever concept: frivoli vs. murkwood or, the eternal fight between dreams and nightmares. in this context, the mor-infused songs on the soundtrack ought not to have worked but somehow they do. it\\'s a real pity, therefore, that i have had to watch this via a truly crappy-looking boot (culled from a tv screening) of the uncensored version \\xc2\\x96 there is also a milder variant that toned down the language for its vhs release \\xc2\\x96 since the film is otherwise unavailable on dvd. interestingly, both henry selick and david fincher worked on this picture in subordinate capacities.',\n",
              "        b'what hopkins does succeed at with this effort as writer and director is giving us a sense that we know absolutely no one in the film. however, perhaps therein lies the problem. his movie has a lot of ambition and his intentions were obviously complex and drawn from very deep within, but it\\'s so impersonal. there are no characters. we never know who anyone is, thus there is no investment on our part.<br /><br />it could be about a screenwriter intermingle with his own characters. is it? maybe. by that i don\\'t mean that slipstream is ambiguous; i mean that there is no telling. hopkins\\'s film is an experiment. on the face of it, one could make the case that it is about a would-be screenwriter, who at the very moment of his meeting with fate, realizes that life is hit and miss, and/or success is blind chance, as he is hurled into a \"slipstream\" of collisions between points in time, dreams, thoughts, and reality. nevertheless, it is so unremittingly cerebral that it leaves no room for any hint of emotion, even to the tiny, quite rudimentary extent of allowing us a connection with its characters.<br /><br />i didn\\'t think the nippy and flamboyant school of shaky, machine-gun-speed camera-work and editing disengaged me, but reflecting upon the film i am beginning to realize that it had a lot to do with it. there are so many movies of the past decade in which the cuts or camera movement have sound effects as well as other atmosphere-deteriorating technical doodads. i suppose in this case it was justified in that its purpose was to compose the impressionistic responsiveness of dreams. however, i knew barely anything about slipstream when watching it, and i came out the same way. and i just do not care, because hopkins made no effort to make us care. there are interactive movies, and there are movies that sit in a rocking chair and knit, unaware of your presence. slipstream is the latter.',\n",
              "        b\"it's a very good movie, not only for the fans of lady death comics, but also for those who like animated movies/series of adventure and fantasy.<br /><br />the film is about a innocent girl who is about killed for something she hadn't done, but for be who she is daughter of the ruler of hell, lucifer himself.<br /><br />then she seeks revenge...and the rest you better see it from the movie.<br /><br />i liked the movie a lot, the characters are like the original comics, form chaos. i never had the chance of read the the first parts of the story in comics, only the last ones, after the passages in the movie, so i cannot tell you if the events are exactly like the comics, but...one way or another it's the story of lady death!\"],\n",
              "       [b\"i was surprised when i saw this film. i'd heard it was the best ever filmed of the novel. how disappointed i was.<br /><br />how any true jane austen fan can rate this adaptation is a mystery to my eyes. the scriptwriters have decided to stick in bits of ridiculous humour which are embarrassing at the best of times, but also ruin the feel of the period. as for the cast: gwyneth paltrow makes a rather shallow heroine (but then any 'hot' american star would be questionable in the role), toni collette is miscast, and poor ewan mcgregor is made to look laughable!<br /><br />i really could not say a good thing about this film. i seem to be among the very few who don't rate it, but if you want my advice, see instead the tv production starring kate beckinsale - believe me, that is far preferable to this superficial trash.\",\n",
              "        b\"i truly wish i was not writing this review. i'm a christian, so i waited anxiously to see this movie. it seemed great -- a christian movie with some fairly famous stars and a plot that seemed intriguing (not that i buy the bible code itself -- you can make it say anything you want. i do, however believe everything inside the bible). so i'm sitting on the edge of my seat enjoying the previews, when the movie comes on and manages to destroy my mood in a matter of minutes. i had to bite my lip to stop from commenting on the terrible writing and acting while i was in the theater (i would have been torn to pieces by the people cheering at the rather clumsy but basically uplifting scenes and gasping at the insanely obvious and predictable tension scenes, i'm sure). once the final credits began to roll, however, i could reflect. there were many parts of the movie i liked -- some mostly unexpected plot twists, some effects that were indeed special (i'm not counting the visions. those were poorly done), and some interesting technical work -- fades, sets, that type of thing. unfortunately, i got the distinct impression that if i read the book of revelation to a monkey and set the monkey in front of a typewriter for an hour, i could've gotten a better script. and the music was beyond cheesy (even for a bond fan who likes kinda cheesy music in scenes of action and intrigue). so i wish i could be like everyone else in the theater -- like the people who came out crying and breathless because of how incredible it was -- but i'm not someone who can be appeased by a writer who throws some words over a biblical shell and slaps a christian stamp on it. i need a good plot and believable dialogue before i can enjoy most movies, and this just didn't have either. i'm sorry, but i wouldn't recommend this film to anyone. and that's the tragedy. when will we see some intelligent christian fiction? it has to be out there somewhere...\",\n",
              "        b'***spoilers*** ***spoilers*** released in 1956,and considered quite racy at the time, douglas sirk\\'s over the top candy colored melodrama is still a wonderful thing. the plot concerns the goings on in an oil rich dysfunctional texas family that includes big brother kyle, who is insecure, weak, wounded & very alcoholic, played by robert stack in a very touching & vulneable performance and his sluty sister marylee played in an extreme manner by dorothy malone. ms. malone\\'s performance is telegraphed to us via her eyes, which she uses to show us her emotions, which mostly consist of lust (for rock hudson) and jealousy (for lauren bacall). malone is the only actress i\\'ve ever seen in movies who enters a room eyes first. now don\\'t get me wrong, her performance to say the least is an absolute hoot, and is one of the supreme camp acting jobs of the 1950\\'s. but it is also terrible, because as likeable and attractive as malone is,she\\'s not a very good actress, and she\\'s not capable of subtly or shading. her performace is of one note. she does get to do a wicked mambo,and in a great montage, as unloving daddy played by the always good robert keith falls to his death climbing a staircase, sirk mixes it up with an almost mad malone doing a orgasmic dance as she undresses. stack,(who should have won an oscar) & malone, (who won the award, but shouldn\\'t have) are the real stars of the film, the ones who set all the hysteria, both sexual & otherwise in motion, while the \"real stars\" of the film, hudson & bacall fade to grey & brown,which are the colors that they are mainly costumed in. hudson who was a better actor then given credit for plays the childhood & best friend of stack\\'s, and the stalked love interest of malone\\'s who moans & groans over rock through most of the film. but hudson wants no part of her,and instead is in love with bacall who is married to stack. no one is very happy & no one is happy for very long. the stack-bacall marriage falls apart big time after a year, and stack pretty much drinks himself into oblivion because he thinks he is sterile, and can\\'t give bacall a baby to prove that he\\'s a man. sirk who was a very intelligent man, and had a long & fascinating career both in films and theatre in germany, ended his hollywood career at universal in the mid 1950\\'s with a series of intense vividly colored \"women\\'s movies\" or melodramas. although they were mainly adapted from medicore or trashy source material,in sirk\\'s hands they became masterpieces of the genre. sirk had a wonderful sense of color & design which he brought to play in these films filling his wide screen spaces with characters who played out their emotional lives among weird color combinations & lighting, make believe shadows, and lots of mirroed reflections. in \"written\" the characters are always peeking out of windows, listening at doors or sneaking around. so in the end, after much violence, an accidental murder, a miscarriage & more sirk ends the movie with a final & startling scene of a \"reborn\" and reformed malone in a man-tailored suit, sitting at a desk foundling a miniature oilwell.',\n",
              "        ...,\n",
              "        b\"there are many problems with mystery men. first of all there are too many different characters for all of them to be given complex or even interesting personalities. the special effects detract from the story and are not really that special. paul reubens is wasted in a pathetic, juvenile role as a character who merely farts and speaks in an inaudible accent.<br /><br />now onto the decent parts. william h macy, three heavenly words, and his performance as the shoveler is pitch perfect. the sphinx is an exceptionally funny character who is only mysterious and merely spouts out the traditional mystical proverbs. ben stiller is very amusing as well, showing a weak character trying to make it into the big leagues of superheroes. all of the characters do, and that is an area which i found particuarly ironic. that is because all of the actors are indie film actors trying to make it into the big leagues of hollywood.<br /><br />to be honest, the reason i thought it failed at the box-office is that america doesn't get irony.<br /><br />all in all i loved the film, but i feel it would have worked better if more effort was put into tweaking the script rather than having unneccesary cgi landscapes and effects.\",\n",
              "        b'another detailed work on the subject by dr dwivedi takes us back in time to pre-partioned panjab. dr dwivedi chose a difficult subject for his movie debut. he has worked on all meticulous details to bring the story to life. the treatment of the subject is very delicate.<br /><br />even though we have not been to the region during that time, the sets and costumes look real. unlike most movies made on partition, this one focuses not on the gory details of violence to attract audience, but on its after-effects. the characters come to life. priyanshu chatterjee has given an impressive performance. manoj bajpai has acted his heart out showing the plight of a guilt-ridden man. the rest of the cast has done a good job too.',\n",
              "        b\"i went to see fever pitch with my mom, and i can say that we both loved it. it wasn't the typical romantic comedy where someone is pining for the other, and blah blah blah... you weren't waiting for the climatic first kiss or for them to finally get together. it was more real, because you saw them through the relationship, rather than the whole movie be about them getting together. people could actually relate to the film, because it didn't seem like extraordinary circumstances, or impossible situations. it was really funny, and i think it was jimmy fallon's best performance. all in all... i would definitely recommend it!\"],\n",
              "       [b\"at first, i thought the ring would be a more than normal movie with it's ordinary plot. how surprised was i! of course, the plot is simple - one girl is in love with two men - but hitchcock brings it to us on a silver platter, with laughter and fear, with compassion and anguish. the way he depicts the popular crowds of the fair, the strength of the attraction of the girl to both men, the tragic elements that come together with techniques that open the mind to most of his greatest movies(north by northwest, the rope, etc.). the master did it great even before his thirties!\",\n",
              "        b\"i am giving this pretentious piece of garbage a 1 simply because i don't believe there is a worse movie in the world.<br /><br />i hate this movie, i hate the acting, dialog, setting, writing and directing. i hope everyone that was involved in this movie burns and rots in the darkest circle of hell.<br /><br />damn this disgusting waste of time.<br /><br />i pray every day that this movie is just a figment of my imagination. i pray that i dreamt the movie, and that i will never have to see it at <br /><br />my local video store again.<br /><br />burn in hell\",\n",
              "        b'a sequel to (actually a remake of) disney\\'s 1996 live-action remake of 101 dalmations. cruella devil (glenn close) is released from prison after being \"cured\" of her obsession with fur by a psychologist named dr. pavlov (ugh!). but the \"cure\" is broken when cruella hears the toll of big ben, and she once again goes on a mad quest to make herself the perfect coat out of dalmation hides.<br /><br />this movie is bad on so many levels, starting with the fact that it\\'s a \"thanksgiving family schlock\" movie designed to suck every last available dime out of the disney marketing machine. glenn close over-over-over-over-acts as cruella. with all that she had to put up with in this movie -- the lame script, the endless makeup, getting baked in a cake at the end -- i hope they gave her an extremely-large paycheck.<br /><br />(speaking of which, where in the world are you going to find a fur coat factory, a bakery with a rube goldberg assembly line, and a candlelight restaurant all located within the same building -- as you do in the climax of this film?) of course, the real stars of the movie are supposed to be the dogs. they serve as the \"macaulay culkin\\'s\" of this movie, pulling all the stupid \"home alone\" gags on the villains. (biting them in the crotch, running over their hands with luggage carts, squirting them with icing, etc., etc., etc., ad nauseum.) i have to admit, the dogs were fairly good actors -- much better than the humans.<br /><br />gerard depardieu is completely wasted in this movie as a freaked-out french furrier. the two human \"dog lovers\" -- rehashed from the earlier film, but with different actors -- are completely boring. when they have a spaghetti dinner at an italian restaurant, the movie cuts back and forth between the two lovers, and their dogs at home, watching the dinner scene from \"lady and the tramp.\" i thought to myself, \"oh please, don\\'t go there!\" i half-expected the humans to do a satire on the \"lady and the tramp\" dinner scene -- as charlie sheen did in \"hot shots: part deux\" -- doing the \"spaghetti strand kiss,\" pushing the meatball with his nose, etc.<br /><br />and don\\'t get me started on the annoying parrot with eric idle\\'s voice.<br /><br />the costumes were nominated for an oscar, and the costumes in the movie *are* good. but they are the only good thing in the movie. the rest of it is unbearable dreck.',\n",
              "        ...,\n",
              "        b\"i haven't laughed that much in a long time - although the movie has some sad moments too, especially when it changes from hyper-funny to honest and serious. the characters are very realistic most of the times, sappy sometimes, but quite believable. i am not a fan of the jerry springer show - i feel sorry for the participating people. this film instead is a satire, and it is doing great.<br /><br />too bad that all expletives were *beeped* out while this movie aired on public tv, that takes a lot of fun out of it. i will go rent this movie to fully enjoy it.<br /><br />\",\n",
              "        b\"charlotte's deadly beauty and lethal kicks make the movie cooler than it'd be otherwise.the story is so poor and charlotte's character dies in such a foolish way, that you wonder if this's the ending they had thought of for this movie. i wish somebody could tell that an alternative ending exists, but i fear it doesn't. as for the rest of the cst, well i'd say they simply didn't act very well; although the blame should be put on the poor script.this movie reminds me of rush hour 2 where zhang ziyi dies in absurd way, since she had been the only one who had stolen the show during the whole movie. i could give this movie 2/5\",\n",
              "        b\"what else can you say about this movie,except that it's plain awful.tina louise and adam west are the reasons why to see this,but,that's it,but their talents are wasted in this junk.i think that they used a double in some of adam's scenes,like when he's running because you can't see his face.if adam was embarrassed in being in zombie nightmare,just think what he must've felt about appearing in this??? if it was before or after,i'm not sure,but,still,zombie nightmare is a classic(check out the mystery science theater 3000 version first and last)compared to this.the gang is very annoying and over-acting by some of the actors.a rip-off of the wild one starring marlon brando,of course.tina looks stunning though.i hope her and adam got a good paycheck!! pass!\"],\n",
              "       ...,\n",
              "       [b'there\\'s a legion of mick garris haters out there who feel he couldn\\'t direct a horror film of quality if he had to. and, sleepwalkers(..screenplay written by stephen king)is often used as an example of this. i like sleepwalkers, though i fully am aware that garris just says f#ck it and lets all hell break loose about fifteen or so minutes into the movie. forget character or plot development, who needs them anyway. it\\'s about violent mayhem and bloody carnage as a mother and son pair of \"sleepwalkers\"(..feline-human shapeshifting creatures who suck the lifeforce from virginal female innocents, moving from town to town, living a nomadic existence, truly powerful)set their sights on a teenager who doesn\\'t surrender without a fight. before all is said and done, many will be slaughtered as a mother shan\\'t tolerate the possible death of her beloved son.<br /><br />garris wastes little time setting up those to be executed, as a teacher(glenn shadix), suspecting handsome, all american charmer charles brady(brian krause)to be someone entirely different from who he claims, gets his hand ripped off and his neck torn into. charles lures pretty virgins into his arms, drawing their energy, in turn \"feeding\" his hungry mama, mary(alice krige). the fresh new target is tanya robertson(m\\xc3\\xa4dchen amick), and she seems to be easy pickens, but this will not be the case and when charles is seriously injured in a struggle(..thanks to a deputy\\'s cat, clovis), mary\\'s vengeance will be reaped on all those who get her way. mary, come hell or high water, will retrieve tanya in the goal of \"refreshing\" her dying son.<br /><br />like many teenagers, i had a crush on certain actresses i watched in movies. such as amy dolenz, i was smitten with m\\xc3\\xa4dchen amick. she\\'s simply adorable in this movie and i love how she bites her lower lip displaying an obvious attraction towards charles, unaware of his ulterior motives. i just knew that m\\xc3\\xa4dchen amick would be destined to be a scream queen, but this would never be the case. too bad because i would\\'ve welcomed her in the genre with open arms.<br /><br />krige is yummy as the menacing, damn sexy, but vicious and mean bitch who wipes out an entire police force and poor tanya\\'s parents in one fail swoop, in less than ten or so minutes. she stabs one in the back with a corn cob! she bites the fingers off of poor ron perlman, before cracking his arm(..a bone protruding), knocking him unconscious with his own elbow! she tosses tanya\\'s mom through a window after breaking a rose vase over her father\\'s face! a deputy is stabbed in his ear by charles(cop-kebab!), falling on the pencil for extra impact. poor tanya is dragged by her hair from her home by mary, driven to the brady home, and forced into an impromptu dance with the crippled monster! the sheriff is hurled onto a picket fence and we see how cats combat the sleepwalkers unlike humans. we see mary and charles\\' abilities to \"dim\" themselves and his car using a power of invisibility. writer stephen king even finds time to include himself and horror director buddies of his in a crime scene sequence with clive barker and tobe hooper as forensics officers, joe dante and john landis as photograph experts.<br /><br />the film is shot in a tongue-in-cheek, let-it-all-hang-out manner with music appropriately hammering this technique home. it\\'s about the ultra-violence, simple as that, with some deranged behavior and jet black humor complimenting garris\\' direction and king\\'s screenplay. the incestuous angle of the sleepwalkers is a bit jarring and in-your-face. without a lick of complexity, this is closer in vein to king\\'s own demented maximimum overdrive than his more serious works.',\n",
              "        b\"i myself am a big fan of low-budget 80's horror films. this isn't the worst but still not to spectacular. the plot line is decent but drags out way too long. you're through half the movie before you even get to see any zombie action. the kills aren't very creative and the zombies aren't too crafty. i truly think this movie would have been better if they left out the zombies and just made it into some mafia flick. it's watchable but i feel that this film did steal at least an hour of my life. i'll give the film credit for being somewhat original. if you are really into b horror movies it's worth a viewing but if you're not, don't bother. but you don't have to take my word for it.\",\n",
              "        b'sure i\\'ve seen bad movies in my life, but this one was so bad that i actually became angry in the theater. i wanted my money back. i wrote to the director asking him to refund my movie ticket, of course i didn\\'t receive a refund (or even a reply) but it\\'s the point that matters. on a scale of 1-10 i give this movie a -42. why did the \"jeep\" (chevy blazer??) stop running from being hit with a bat? why did they hit the \"jeep\"(chevy blazer?????) with the bat in the first place instead of cracking the bum\\'s skull? the plot was thin, the movie filled with obvious clich\\xc3\\xa9s, and certain parts of it just didn\\'t make any sense.',\n",
              "        ...,\n",
              "        b'tess of the storm country is possibly the best movie of all of mary pickford\\'s films. at two hours, it was quite long for a 1922 silent film yet continues to hold your interest some 80 years after it was filmed. mary gives one of her finest performances at times the role seems like a \"greatest hits\" performance with bits of mary the innocent, mary the little devil, mary the little mother, mary the spitfire, mary the romantic heroine, etc. characteristics that often were used throughout a single film in the past. the movie is surprisingly frank about one supporting character\\'s illegitimate child for 1922 and at one point our little mary is thought the unwed mother in question! if the academy awards had been around in 1922, no doubt the best actress oscar for the year would have been mary\\'s.',\n",
              "        b\"lethargic direction ruins an otherwise compelling period story that stars the wondrous zhang ziyi, in an excellent role as a woman who joins an extremist group in 1928 china, just prior to the japanese invasion of manchuria, and reunites with a former lover who is now working for japan. every bit of drama and forward motion of the story is sucked dry by director ye lou's somnambulist directorial style. characters stand still staring at each other for long minutes, saying nothing, hand-held cameras hold forever on faces showing interminable reactions way longer than they need to, edits repeat the same reaction is triple redundancy. we know nothing about the characters as the story begins and are given little new information as the story progresses, only silence and static shots of lovers who don't speak, who interaction through silent dances but share no apparent emotional intimacy. a very sleep inducing film.\",\n",
              "        b'i give this movie a one, for it is truly an awful movie. sound track of the dvd is so bad, it actually hurts my ear. but the vision, no matter how disjointed, does show something really fancy in the italian society. i will not go into detail what actually was so shocking , but the various incidents are absolutely abnormal. so for the kink value, i give it one.otherwise, the video, photography, acting of the adults actors /actresses are simply substandard, a practical jock to people who love foreign movies.roberto, the main character, has full spectrum of emotions but exaggerated to the point of being unbelievable.however, the children in the movie are mostly 3/4 years old, and they are genuine and the movie provides glimpse of the italian life..'],\n",
              "       [b'this is one of those movies - like dave, american dreamer and local hero - that holds a viewer\\'s interest time and again. lightweight movies seldom win oscars, but whoever did the casting for soapdish deserves one. even after one has seen the movie and knows what is coming, it\\'s still enjoyable to watch how the various plot facets develop. true, all the drama is melodrama; but that\\'s entirely fitting for a movie with a soap opera background. my favorite line comes from whoopi goldberg: \"now why can\\'t i write sh*t like that?\" i think it\\'s unfortunate that the tv and website censors insist on all this unnecessary sanitation.',\n",
              "        b'the gang of roses. \"every rose has its thorns.\"<br /><br />a mix of old western and hip hop, blended perfectly together. the clothing styles, the scenery, and the plot are all suited to what the director wanted. <br /><br />plot - in five years, they robbed twenty-seven banks and then vanished without a trace. now, a small western town is under siege, and one of the first victims is rachel\\'s sister. the rose gang is ready to ride again. and this time it\\'s personal.<br /><br />rachel (michael calhoun), chastity (lil\\' kim), maria (lisaraye), zang li (marie matiko) and kim (stacey dash), five gunslinging women who split up after five years of riding together. when rachel\\'s sister is killed, she ends up rounding up her friends once again and riding on a trail of vengeance. <br /><br />a good, muck around version of western. (if you\\'ve seen bad girls, well this is a little bit better in the ways of the female characters).<br /><br />i gave it 10/10 because the characters, plot and scenery made it for me.',\n",
              "        b\"as is nearly always the case, when britain comes up with an entertaining and/or successful sit-com or quiz show, the yanks will come along and poach the format and produce their own, grossly inferior, version. man about the house is, of course, no exception to that rule. the yanks' version ( three's company ) was unwatchable, braindead pap that seem to run forever. a prime example of quantity over ( non-existent ) quality. the original, on the other hand, is a fondly-remembered gem that had the savvy ( like fawlty towers ) to pull the plug at precisely the right time ( unlike the 637 episodes of 'hilarity' that three's company came up with ). jo was cute, there was brilliant chemistry between the ropers, richard o'sullivan made it all look so easy, the scripts, whilst not exactly oscar wilde-standard, were consistently funny and chrissy was the most drop-dead gorgeous woman who has walked the face of this planet since the dead sea was merely feeling unwell. 'nuff said.\",\n",
              "        ...,\n",
              "        b\"sequels have a nasty habit of being disappointing, and the best credit i can give this is that it maintains that old tradition. these three tales aren't anything as good as any from the original creepshow.<br /><br />by far the best of the trio involves a wooden idol which comes to life to take revenge on the thugs who killed its owners. the second story is about a lake monster which seems to be nothing more than a lot of floating slop, makes you wonder how anybody could possibly be scared of it. the third story includes a cameo from stephen king as a truck driver, but other than that is a pretty unmemorable tale concerning the victim of a road traffic accident who comes back from the dead for the person who knocked him down.<br /><br />watch the original creepshow instead, or if you already have done then be happy with that.\",\n",
              "        b\"what is supposed to be a simple generic mystery plot involving a dead philanthropist is, in fact, a head-ache inducing tale about a bunch of characters (the only big actor being ginger rogers, in a very early role) all trying to find the murderer among a small cast of residents in a posh apartment building. these characters range from utterly stupid to downright mean. as a cheap, low budget production, most of the action revolves around rogers and her lead man (some guy, i don't care who he is 'cause he really sucked) talking about their various possibilities of solving the crime, while being constantly cut off by an absurd detective with his head in his butt. honestly, i've never had a worse time watching an old b-rate movie of this type, and i've seen some real head-slappers.<br /><br />oh, and the butler didn't do it, because there wasn't a butler. but pay attention to the guy who's closest to a butler. there ya go.<br /><br />--polarisdib\",\n",
              "        b'starring an unknown cast which seem likely to remain that way, this \"film\" is yet another cheap slasher flick which amazes me how this was released. i have no problem with horrors and slasher flicks in particular, in fact they are my favourites. but when they are done this bad, it really does take the monkey and its no wonder the genre has such a hard time. the story is as clich\\xc3\\xa9d and without imagination as possible with a bunch of people in a cabin out in the woods being slashed and hacked up by this zombie/ghost guy. its not the story that sucks the most, its the atrocious acting and dialouge, home made directing quality and an awful soundtrack. not to mention laughable effects and some incredibly lazy film making - these morons are outside in clear daylight yet we are meant to believe it\\'s night?? what the hell was the director thinking with this move? what, he had only one day to film all this in? he was scared of the dark? ( is hilarious seeing a cop walking around in pure daylight with a torch acting as if its pitch black, though)<br /><br />i guess the positive side for the actors is they look like people who work in the local supermarket so at least they could possibly escape from this film without ever being noticed. im sure one of the \"teens\" plays bingo down the local pub - but she\\'s 40-45.<br /><br />anyway, good for a laugh but just another waste of film and time.'],\n",
              "       [b'a short review but...<br /><br />avoid at all costs, a thorough waste of 90mins. at the end of the film i was none the wiser as to what had actually happened. it\\'s full of cameos (stephen fry (3mins), jack dee (30 secs), the \"philadelphia\" girls) and some vaguely recognisable people but it just doesn\\'t make any sense. whether the story just got lost in the edit i don\\'t now but jeez...<br /><br />put on a dvd instead or go to bed and get some rest!!!<br /><br />2 out of 10 (for the cameos and a morris minor car chase)<br /><br />',\n",
              "        b\"first of all, the big named actors must need the money... the surgical scenes were laughable.... and surely they must know that people who have a little knowledge of medicine would find this utterly absurd......anesthesiologists do not leave the room during a heart transplant....nor do they do the surgery in a tiny room devoid of instruments, heart lung equipment and sterile techniques... just a joke... couldn't concentrate on the story line because of all the stupid surgery scenes... no blood, no personnel and then the hero doc coming in and taking over... it is not a film for thinking adults....also the budget must have been limited... the street scenes were ok but who was the technical adviser....seems like it was directed by a total idiot.. save your money and wait until it comes out on dvd and don't rent it..\",\n",
              "        b\"i feel totally ripped off. someone needs to refund the $4.95 i spent at blockbuster to rent this homemade mess. this is not a musical it is a complete waste of time and my evening. what i don't get is why did this get distributed in the first place???...somebody must have been doing some heavy drugs the night that deal was made. i've seen better films come out of film schools and i have been to film school so i can say that as a fact. the quality of this work is also just so very bad to view...shot on dv??? nuff said. the songs are not songs but just banter that sounds the same in every section. want to see a good musical? then don't rent this movie.\",\n",
              "        ...,\n",
              "        b\"first off, this really is my favorite film ever. i don't need to give anyone a description because every a**hole does that. i am literally obsessed with this practically bloodless, cheesy, lame effects having', boom-stick showing', badly edited, 80's metal horror masterpiece. the director (i heard) had hoped for a hit at the box office so that he could do sequels and have a freddy/jason type of deal for himself. damn, i wish that could've went down like that! the soundtrack's banging'. the acting's good....check this mofo out. and any die-hard fans out there, feel free to email and chat sometime. midgetorgy....i can be found at yahoo.\",\n",
              "        b'my kids recently started watching the reruns of this show - both the early episodes on the n, and the later ones on abc family - and they love it. (i wasn\\'t aware the show had even lasted past the first or second season) i\\'m curious as to what prompted all of the cast changes - i\\'ve seen them described as \"highly publicized,\" and yet a half hours searching efforts on the web have revealed nothing but endless comments on how the early episodes were so much better than the later episodes. (personally, i don\\'t see a whole lot of difference - the scripts and themes remain largely the same throughout - but they do lose some great people along the way) my daughter has put the dvds on her wish list, so perhaps the land of special features and commentary will shed some light on all of this. i also wish they\\'d done some self-referential humor about the changes - like on \"boy meets world\" where they drop the little sister for an entire season or so, and when a different actor later shows up playing her, they ask her where she\\'s been and she says \"upstairs,\" or when early series token geek \"minkus\" shows up for the high school graduation, they ask him where he\\'s been and he says \"over there,\" pointing to the part of the classroom never shown by the camera, before saying \"hey, mr. turner, wait up!\" and running off screen (mr. turner being another character who left) oh well - maybe there will be an e true hollywood story on this or something? i was just glad to see aunt hilda show up for the finale - she was always one of my favorites - it\\'s too bad it couldn\\'t have been a more encompassing cast reunion. (the zelda candle just didn\\'t cut it for me)',\n",
              "        b\"chris gerolmo took care not to simply give us a `jack-the-stripper' type of list of murdered people: he delved into the psychological characterization with convincing results. perhaps mostly due to stephen rea's excellent performance playing off against donald sutherland with good empathy by both. it was the playing of these two parts \\xc2\\x96 above all \\xc2\\x96 which made the film something more than just a morbid account of the history of the butcher of rostov. supporting actors, especially max von sydow, carried out their parts really well. good directing. the photography was good too. needless to say, the fact that the film was shot in hungary was bound to produce a couple of aberrations, but, frankly, given the depth of the story-telling and interpretations, we can completely forget these little trivialia.<br /><br />for once, a made for tv film from hbo has come up trumps. recommended, especially if you like to analyse characteriology and forget some of the morbid scenes \\xc2\\x96 which, i hasten to add, are never exaggerated.\"]],\n",
              "      dtype=object)>"
            ]
          },
          "metadata": {
            "tags": []
          },
          "execution_count": 47
        }
      ]
    },
    {
      "cell_type": "markdown",
      "metadata": {
        "id": "bDzVxV7IGIhv"
      },
      "source": [
        "[Regular Expression in Tensorflow](https://www.tensorflow.org/api_docs/python/tf/strings/regex_replace)"
      ]
    },
    {
      "cell_type": "code",
      "metadata": {
        "colab": {
          "base_uri": "https://localhost:8080/"
        },
        "id": "KRBzUbC6CRyt",
        "outputId": "64c2fc87-4077-4a1b-e67e-f6b030e096cd"
      },
      "source": [
        "def textStandardization(text):\n",
        "  text = tf.strings.lower(text)\n",
        "  cleantext = tf.strings.regex_replace(text,\"<[^>]+>\", \" \")\n",
        "  return cleantext\n",
        "\n",
        "\n",
        "clean = textStandardization(train_texts)\n",
        "clean"
      ],
      "execution_count": 52,
      "outputs": [
        {
          "output_type": "execute_result",
          "data": {
            "text/plain": [
              "<tf.Tensor: shape=(625, 32), dtype=string, numpy=\n",
              "array([[b'great movie - especially the music - etta james - \"at last\". this speaks volumes when you have finally found that special someone.',\n",
              "        b\"i am shocked. shocked and dismayed that the 428 of you imdb users who voted before me have not given this film a rating of higher than 7. 7?!?? - that's a c!. if i could give fobh a 20, i'd gladly do it. this film ranks high atop the pantheon of modern comedy, alongside half baked and mallrats, as one of the most hilarious films of all time. if you know _anything_ about rap music - you must see this!! if you know nothing about rap music - learn something!, and then see this! comparisons to 'spinal tap' fail to appreciate the inspired genius of this unique film. if you liked bob roberts, you'll love this. watch it and vote it a 10!\",\n",
              "        b'what a lovely heart warming television movie. the story tells of a little five year old girl who has lost her daddy and finds it impossible to cope. her mother is also very distressed ..only a miracle can alleviate their unhappiness.which all viewers hope will materialise. samantha mathis is brilliant as the little girl\\'s mum ,as she was as the nanny in\" jack and sarah\",worth watching if you like both samantha mathis and happy; year tear jerking movies! ellen burstyn is, as, always a delightful grandmother in this tender and magnificently acted movie. jodelle ferland (the little five year old) is charming and a most convincing young actress. the film is based on a true story which makes it so touching.\"mermaid\" is a tribute to the milk of human kindness which is clearly illustrated and clearly is still all around us in this difficult world we live in. \"mermaid\" gives us all hope ,by realising that there a lot of lovely people in the world with lot\\'s of love to give. james robson glasgow scotland u.k.',\n",
              "        ...,\n",
              "        b'despite the patronage of george lucas, this captivating and totally original fantasy in \"lumage\" (a combination of animation through live action cut-outs) is about as far removed from the usual kiddie fare as anything made by ralph bakshi in his heyday. brilliantly conceived characters such as the shape-shifting dog ralph (one of a duo of bumbling, rejected heroes), synonamess botch (the hilariously foul-mouthed villain) and rod rescueman (the pompous novice superhero) breathe life into a uniquely clever concept: frivoli vs. murkwood or, the eternal fight between dreams and nightmares. in this context, the mor-infused songs on the soundtrack ought not to have worked but somehow they do. it\\'s a real pity, therefore, that i have had to watch this via a truly crappy-looking boot (culled from a tv screening) of the uncensored version \\xc2\\x96 there is also a milder variant that toned down the language for its vhs release \\xc2\\x96 since the film is otherwise unavailable on dvd. interestingly, both henry selick and david fincher worked on this picture in subordinate capacities.',\n",
              "        b'what hopkins does succeed at with this effort as writer and director is giving us a sense that we know absolutely no one in the film. however, perhaps therein lies the problem. his movie has a lot of ambition and his intentions were obviously complex and drawn from very deep within, but it\\'s so impersonal. there are no characters. we never know who anyone is, thus there is no investment on our part.  it could be about a screenwriter intermingle with his own characters. is it? maybe. by that i don\\'t mean that slipstream is ambiguous; i mean that there is no telling. hopkins\\'s film is an experiment. on the face of it, one could make the case that it is about a would-be screenwriter, who at the very moment of his meeting with fate, realizes that life is hit and miss, and/or success is blind chance, as he is hurled into a \"slipstream\" of collisions between points in time, dreams, thoughts, and reality. nevertheless, it is so unremittingly cerebral that it leaves no room for any hint of emotion, even to the tiny, quite rudimentary extent of allowing us a connection with its characters.  i didn\\'t think the nippy and flamboyant school of shaky, machine-gun-speed camera-work and editing disengaged me, but reflecting upon the film i am beginning to realize that it had a lot to do with it. there are so many movies of the past decade in which the cuts or camera movement have sound effects as well as other atmosphere-deteriorating technical doodads. i suppose in this case it was justified in that its purpose was to compose the impressionistic responsiveness of dreams. however, i knew barely anything about slipstream when watching it, and i came out the same way. and i just do not care, because hopkins made no effort to make us care. there are interactive movies, and there are movies that sit in a rocking chair and knit, unaware of your presence. slipstream is the latter.',\n",
              "        b\"it's a very good movie, not only for the fans of lady death comics, but also for those who like animated movies/series of adventure and fantasy.  the film is about a innocent girl who is about killed for something she hadn't done, but for be who she is daughter of the ruler of hell, lucifer himself.  then she seeks revenge...and the rest you better see it from the movie.  i liked the movie a lot, the characters are like the original comics, form chaos. i never had the chance of read the the first parts of the story in comics, only the last ones, after the passages in the movie, so i cannot tell you if the events are exactly like the comics, but...one way or another it's the story of lady death!\"],\n",
              "       [b\"i was surprised when i saw this film. i'd heard it was the best ever filmed of the novel. how disappointed i was.  how any true jane austen fan can rate this adaptation is a mystery to my eyes. the scriptwriters have decided to stick in bits of ridiculous humour which are embarrassing at the best of times, but also ruin the feel of the period. as for the cast: gwyneth paltrow makes a rather shallow heroine (but then any 'hot' american star would be questionable in the role), toni collette is miscast, and poor ewan mcgregor is made to look laughable!  i really could not say a good thing about this film. i seem to be among the very few who don't rate it, but if you want my advice, see instead the tv production starring kate beckinsale - believe me, that is far preferable to this superficial trash.\",\n",
              "        b\"i truly wish i was not writing this review. i'm a christian, so i waited anxiously to see this movie. it seemed great -- a christian movie with some fairly famous stars and a plot that seemed intriguing (not that i buy the bible code itself -- you can make it say anything you want. i do, however believe everything inside the bible). so i'm sitting on the edge of my seat enjoying the previews, when the movie comes on and manages to destroy my mood in a matter of minutes. i had to bite my lip to stop from commenting on the terrible writing and acting while i was in the theater (i would have been torn to pieces by the people cheering at the rather clumsy but basically uplifting scenes and gasping at the insanely obvious and predictable tension scenes, i'm sure). once the final credits began to roll, however, i could reflect. there were many parts of the movie i liked -- some mostly unexpected plot twists, some effects that were indeed special (i'm not counting the visions. those were poorly done), and some interesting technical work -- fades, sets, that type of thing. unfortunately, i got the distinct impression that if i read the book of revelation to a monkey and set the monkey in front of a typewriter for an hour, i could've gotten a better script. and the music was beyond cheesy (even for a bond fan who likes kinda cheesy music in scenes of action and intrigue). so i wish i could be like everyone else in the theater -- like the people who came out crying and breathless because of how incredible it was -- but i'm not someone who can be appeased by a writer who throws some words over a biblical shell and slaps a christian stamp on it. i need a good plot and believable dialogue before i can enjoy most movies, and this just didn't have either. i'm sorry, but i wouldn't recommend this film to anyone. and that's the tragedy. when will we see some intelligent christian fiction? it has to be out there somewhere...\",\n",
              "        b'***spoilers*** ***spoilers*** released in 1956,and considered quite racy at the time, douglas sirk\\'s over the top candy colored melodrama is still a wonderful thing. the plot concerns the goings on in an oil rich dysfunctional texas family that includes big brother kyle, who is insecure, weak, wounded & very alcoholic, played by robert stack in a very touching & vulneable performance and his sluty sister marylee played in an extreme manner by dorothy malone. ms. malone\\'s performance is telegraphed to us via her eyes, which she uses to show us her emotions, which mostly consist of lust (for rock hudson) and jealousy (for lauren bacall). malone is the only actress i\\'ve ever seen in movies who enters a room eyes first. now don\\'t get me wrong, her performance to say the least is an absolute hoot, and is one of the supreme camp acting jobs of the 1950\\'s. but it is also terrible, because as likeable and attractive as malone is,she\\'s not a very good actress, and she\\'s not capable of subtly or shading. her performace is of one note. she does get to do a wicked mambo,and in a great montage, as unloving daddy played by the always good robert keith falls to his death climbing a staircase, sirk mixes it up with an almost mad malone doing a orgasmic dance as she undresses. stack,(who should have won an oscar) & malone, (who won the award, but shouldn\\'t have) are the real stars of the film, the ones who set all the hysteria, both sexual & otherwise in motion, while the \"real stars\" of the film, hudson & bacall fade to grey & brown,which are the colors that they are mainly costumed in. hudson who was a better actor then given credit for plays the childhood & best friend of stack\\'s, and the stalked love interest of malone\\'s who moans & groans over rock through most of the film. but hudson wants no part of her,and instead is in love with bacall who is married to stack. no one is very happy & no one is happy for very long. the stack-bacall marriage falls apart big time after a year, and stack pretty much drinks himself into oblivion because he thinks he is sterile, and can\\'t give bacall a baby to prove that he\\'s a man. sirk who was a very intelligent man, and had a long & fascinating career both in films and theatre in germany, ended his hollywood career at universal in the mid 1950\\'s with a series of intense vividly colored \"women\\'s movies\" or melodramas. although they were mainly adapted from medicore or trashy source material,in sirk\\'s hands they became masterpieces of the genre. sirk had a wonderful sense of color & design which he brought to play in these films filling his wide screen spaces with characters who played out their emotional lives among weird color combinations & lighting, make believe shadows, and lots of mirroed reflections. in \"written\" the characters are always peeking out of windows, listening at doors or sneaking around. so in the end, after much violence, an accidental murder, a miscarriage & more sirk ends the movie with a final & startling scene of a \"reborn\" and reformed malone in a man-tailored suit, sitting at a desk foundling a miniature oilwell.',\n",
              "        ...,\n",
              "        b\"there are many problems with mystery men. first of all there are too many different characters for all of them to be given complex or even interesting personalities. the special effects detract from the story and are not really that special. paul reubens is wasted in a pathetic, juvenile role as a character who merely farts and speaks in an inaudible accent.  now onto the decent parts. william h macy, three heavenly words, and his performance as the shoveler is pitch perfect. the sphinx is an exceptionally funny character who is only mysterious and merely spouts out the traditional mystical proverbs. ben stiller is very amusing as well, showing a weak character trying to make it into the big leagues of superheroes. all of the characters do, and that is an area which i found particuarly ironic. that is because all of the actors are indie film actors trying to make it into the big leagues of hollywood.  to be honest, the reason i thought it failed at the box-office is that america doesn't get irony.  all in all i loved the film, but i feel it would have worked better if more effort was put into tweaking the script rather than having unneccesary cgi landscapes and effects.\",\n",
              "        b'another detailed work on the subject by dr dwivedi takes us back in time to pre-partioned panjab. dr dwivedi chose a difficult subject for his movie debut. he has worked on all meticulous details to bring the story to life. the treatment of the subject is very delicate.  even though we have not been to the region during that time, the sets and costumes look real. unlike most movies made on partition, this one focuses not on the gory details of violence to attract audience, but on its after-effects. the characters come to life. priyanshu chatterjee has given an impressive performance. manoj bajpai has acted his heart out showing the plight of a guilt-ridden man. the rest of the cast has done a good job too.',\n",
              "        b\"i went to see fever pitch with my mom, and i can say that we both loved it. it wasn't the typical romantic comedy where someone is pining for the other, and blah blah blah... you weren't waiting for the climatic first kiss or for them to finally get together. it was more real, because you saw them through the relationship, rather than the whole movie be about them getting together. people could actually relate to the film, because it didn't seem like extraordinary circumstances, or impossible situations. it was really funny, and i think it was jimmy fallon's best performance. all in all... i would definitely recommend it!\"],\n",
              "       [b\"at first, i thought the ring would be a more than normal movie with it's ordinary plot. how surprised was i! of course, the plot is simple - one girl is in love with two men - but hitchcock brings it to us on a silver platter, with laughter and fear, with compassion and anguish. the way he depicts the popular crowds of the fair, the strength of the attraction of the girl to both men, the tragic elements that come together with techniques that open the mind to most of his greatest movies(north by northwest, the rope, etc.). the master did it great even before his thirties!\",\n",
              "        b\"i am giving this pretentious piece of garbage a 1 simply because i don't believe there is a worse movie in the world.  i hate this movie, i hate the acting, dialog, setting, writing and directing. i hope everyone that was involved in this movie burns and rots in the darkest circle of hell.  damn this disgusting waste of time.  i pray every day that this movie is just a figment of my imagination. i pray that i dreamt the movie, and that i will never have to see it at   my local video store again.  burn in hell\",\n",
              "        b'a sequel to (actually a remake of) disney\\'s 1996 live-action remake of 101 dalmations. cruella devil (glenn close) is released from prison after being \"cured\" of her obsession with fur by a psychologist named dr. pavlov (ugh!). but the \"cure\" is broken when cruella hears the toll of big ben, and she once again goes on a mad quest to make herself the perfect coat out of dalmation hides.  this movie is bad on so many levels, starting with the fact that it\\'s a \"thanksgiving family schlock\" movie designed to suck every last available dime out of the disney marketing machine. glenn close over-over-over-over-acts as cruella. with all that she had to put up with in this movie -- the lame script, the endless makeup, getting baked in a cake at the end -- i hope they gave her an extremely-large paycheck.  (speaking of which, where in the world are you going to find a fur coat factory, a bakery with a rube goldberg assembly line, and a candlelight restaurant all located within the same building -- as you do in the climax of this film?) of course, the real stars of the movie are supposed to be the dogs. they serve as the \"macaulay culkin\\'s\" of this movie, pulling all the stupid \"home alone\" gags on the villains. (biting them in the crotch, running over their hands with luggage carts, squirting them with icing, etc., etc., etc., ad nauseum.) i have to admit, the dogs were fairly good actors -- much better than the humans.  gerard depardieu is completely wasted in this movie as a freaked-out french furrier. the two human \"dog lovers\" -- rehashed from the earlier film, but with different actors -- are completely boring. when they have a spaghetti dinner at an italian restaurant, the movie cuts back and forth between the two lovers, and their dogs at home, watching the dinner scene from \"lady and the tramp.\" i thought to myself, \"oh please, don\\'t go there!\" i half-expected the humans to do a satire on the \"lady and the tramp\" dinner scene -- as charlie sheen did in \"hot shots: part deux\" -- doing the \"spaghetti strand kiss,\" pushing the meatball with his nose, etc.  and don\\'t get me started on the annoying parrot with eric idle\\'s voice.  the costumes were nominated for an oscar, and the costumes in the movie *are* good. but they are the only good thing in the movie. the rest of it is unbearable dreck.',\n",
              "        ...,\n",
              "        b\"i haven't laughed that much in a long time - although the movie has some sad moments too, especially when it changes from hyper-funny to honest and serious. the characters are very realistic most of the times, sappy sometimes, but quite believable. i am not a fan of the jerry springer show - i feel sorry for the participating people. this film instead is a satire, and it is doing great.  too bad that all expletives were *beeped* out while this movie aired on public tv, that takes a lot of fun out of it. i will go rent this movie to fully enjoy it.  \",\n",
              "        b\"charlotte's deadly beauty and lethal kicks make the movie cooler than it'd be otherwise.the story is so poor and charlotte's character dies in such a foolish way, that you wonder if this's the ending they had thought of for this movie. i wish somebody could tell that an alternative ending exists, but i fear it doesn't. as for the rest of the cst, well i'd say they simply didn't act very well; although the blame should be put on the poor script.this movie reminds me of rush hour 2 where zhang ziyi dies in absurd way, since she had been the only one who had stolen the show during the whole movie. i could give this movie 2/5\",\n",
              "        b\"what else can you say about this movie,except that it's plain awful.tina louise and adam west are the reasons why to see this,but,that's it,but their talents are wasted in this junk.i think that they used a double in some of adam's scenes,like when he's running because you can't see his face.if adam was embarrassed in being in zombie nightmare,just think what he must've felt about appearing in this??? if it was before or after,i'm not sure,but,still,zombie nightmare is a classic(check out the mystery science theater 3000 version first and last)compared to this.the gang is very annoying and over-acting by some of the actors.a rip-off of the wild one starring marlon brando,of course.tina looks stunning though.i hope her and adam got a good paycheck!! pass!\"],\n",
              "       ...,\n",
              "       [b'there\\'s a legion of mick garris haters out there who feel he couldn\\'t direct a horror film of quality if he had to. and, sleepwalkers(..screenplay written by stephen king)is often used as an example of this. i like sleepwalkers, though i fully am aware that garris just says f#ck it and lets all hell break loose about fifteen or so minutes into the movie. forget character or plot development, who needs them anyway. it\\'s about violent mayhem and bloody carnage as a mother and son pair of \"sleepwalkers\"(..feline-human shapeshifting creatures who suck the lifeforce from virginal female innocents, moving from town to town, living a nomadic existence, truly powerful)set their sights on a teenager who doesn\\'t surrender without a fight. before all is said and done, many will be slaughtered as a mother shan\\'t tolerate the possible death of her beloved son.  garris wastes little time setting up those to be executed, as a teacher(glenn shadix), suspecting handsome, all american charmer charles brady(brian krause)to be someone entirely different from who he claims, gets his hand ripped off and his neck torn into. charles lures pretty virgins into his arms, drawing their energy, in turn \"feeding\" his hungry mama, mary(alice krige). the fresh new target is tanya robertson(m\\xc3\\xa4dchen amick), and she seems to be easy pickens, but this will not be the case and when charles is seriously injured in a struggle(..thanks to a deputy\\'s cat, clovis), mary\\'s vengeance will be reaped on all those who get her way. mary, come hell or high water, will retrieve tanya in the goal of \"refreshing\" her dying son.  like many teenagers, i had a crush on certain actresses i watched in movies. such as amy dolenz, i was smitten with m\\xc3\\xa4dchen amick. she\\'s simply adorable in this movie and i love how she bites her lower lip displaying an obvious attraction towards charles, unaware of his ulterior motives. i just knew that m\\xc3\\xa4dchen amick would be destined to be a scream queen, but this would never be the case. too bad because i would\\'ve welcomed her in the genre with open arms.  krige is yummy as the menacing, damn sexy, but vicious and mean bitch who wipes out an entire police force and poor tanya\\'s parents in one fail swoop, in less than ten or so minutes. she stabs one in the back with a corn cob! she bites the fingers off of poor ron perlman, before cracking his arm(..a bone protruding), knocking him unconscious with his own elbow! she tosses tanya\\'s mom through a window after breaking a rose vase over her father\\'s face! a deputy is stabbed in his ear by charles(cop-kebab!), falling on the pencil for extra impact. poor tanya is dragged by her hair from her home by mary, driven to the brady home, and forced into an impromptu dance with the crippled monster! the sheriff is hurled onto a picket fence and we see how cats combat the sleepwalkers unlike humans. we see mary and charles\\' abilities to \"dim\" themselves and his car using a power of invisibility. writer stephen king even finds time to include himself and horror director buddies of his in a crime scene sequence with clive barker and tobe hooper as forensics officers, joe dante and john landis as photograph experts.  the film is shot in a tongue-in-cheek, let-it-all-hang-out manner with music appropriately hammering this technique home. it\\'s about the ultra-violence, simple as that, with some deranged behavior and jet black humor complimenting garris\\' direction and king\\'s screenplay. the incestuous angle of the sleepwalkers is a bit jarring and in-your-face. without a lick of complexity, this is closer in vein to king\\'s own demented maximimum overdrive than his more serious works.',\n",
              "        b\"i myself am a big fan of low-budget 80's horror films. this isn't the worst but still not to spectacular. the plot line is decent but drags out way too long. you're through half the movie before you even get to see any zombie action. the kills aren't very creative and the zombies aren't too crafty. i truly think this movie would have been better if they left out the zombies and just made it into some mafia flick. it's watchable but i feel that this film did steal at least an hour of my life. i'll give the film credit for being somewhat original. if you are really into b horror movies it's worth a viewing but if you're not, don't bother. but you don't have to take my word for it.\",\n",
              "        b'sure i\\'ve seen bad movies in my life, but this one was so bad that i actually became angry in the theater. i wanted my money back. i wrote to the director asking him to refund my movie ticket, of course i didn\\'t receive a refund (or even a reply) but it\\'s the point that matters. on a scale of 1-10 i give this movie a -42. why did the \"jeep\" (chevy blazer??) stop running from being hit with a bat? why did they hit the \"jeep\"(chevy blazer?????) with the bat in the first place instead of cracking the bum\\'s skull? the plot was thin, the movie filled with obvious clich\\xc3\\xa9s, and certain parts of it just didn\\'t make any sense.',\n",
              "        ...,\n",
              "        b'tess of the storm country is possibly the best movie of all of mary pickford\\'s films. at two hours, it was quite long for a 1922 silent film yet continues to hold your interest some 80 years after it was filmed. mary gives one of her finest performances at times the role seems like a \"greatest hits\" performance with bits of mary the innocent, mary the little devil, mary the little mother, mary the spitfire, mary the romantic heroine, etc. characteristics that often were used throughout a single film in the past. the movie is surprisingly frank about one supporting character\\'s illegitimate child for 1922 and at one point our little mary is thought the unwed mother in question! if the academy awards had been around in 1922, no doubt the best actress oscar for the year would have been mary\\'s.',\n",
              "        b\"lethargic direction ruins an otherwise compelling period story that stars the wondrous zhang ziyi, in an excellent role as a woman who joins an extremist group in 1928 china, just prior to the japanese invasion of manchuria, and reunites with a former lover who is now working for japan. every bit of drama and forward motion of the story is sucked dry by director ye lou's somnambulist directorial style. characters stand still staring at each other for long minutes, saying nothing, hand-held cameras hold forever on faces showing interminable reactions way longer than they need to, edits repeat the same reaction is triple redundancy. we know nothing about the characters as the story begins and are given little new information as the story progresses, only silence and static shots of lovers who don't speak, who interaction through silent dances but share no apparent emotional intimacy. a very sleep inducing film.\",\n",
              "        b'i give this movie a one, for it is truly an awful movie. sound track of the dvd is so bad, it actually hurts my ear. but the vision, no matter how disjointed, does show something really fancy in the italian society. i will not go into detail what actually was so shocking , but the various incidents are absolutely abnormal. so for the kink value, i give it one.otherwise, the video, photography, acting of the adults actors /actresses are simply substandard, a practical jock to people who love foreign movies.roberto, the main character, has full spectrum of emotions but exaggerated to the point of being unbelievable.however, the children in the movie are mostly 3/4 years old, and they are genuine and the movie provides glimpse of the italian life..'],\n",
              "       [b'this is one of those movies - like dave, american dreamer and local hero - that holds a viewer\\'s interest time and again. lightweight movies seldom win oscars, but whoever did the casting for soapdish deserves one. even after one has seen the movie and knows what is coming, it\\'s still enjoyable to watch how the various plot facets develop. true, all the drama is melodrama; but that\\'s entirely fitting for a movie with a soap opera background. my favorite line comes from whoopi goldberg: \"now why can\\'t i write sh*t like that?\" i think it\\'s unfortunate that the tv and website censors insist on all this unnecessary sanitation.',\n",
              "        b'the gang of roses. \"every rose has its thorns.\"  a mix of old western and hip hop, blended perfectly together. the clothing styles, the scenery, and the plot are all suited to what the director wanted.   plot - in five years, they robbed twenty-seven banks and then vanished without a trace. now, a small western town is under siege, and one of the first victims is rachel\\'s sister. the rose gang is ready to ride again. and this time it\\'s personal.  rachel (michael calhoun), chastity (lil\\' kim), maria (lisaraye), zang li (marie matiko) and kim (stacey dash), five gunslinging women who split up after five years of riding together. when rachel\\'s sister is killed, she ends up rounding up her friends once again and riding on a trail of vengeance.   a good, muck around version of western. (if you\\'ve seen bad girls, well this is a little bit better in the ways of the female characters).  i gave it 10/10 because the characters, plot and scenery made it for me.',\n",
              "        b\"as is nearly always the case, when britain comes up with an entertaining and/or successful sit-com or quiz show, the yanks will come along and poach the format and produce their own, grossly inferior, version. man about the house is, of course, no exception to that rule. the yanks' version ( three's company ) was unwatchable, braindead pap that seem to run forever. a prime example of quantity over ( non-existent ) quality. the original, on the other hand, is a fondly-remembered gem that had the savvy ( like fawlty towers ) to pull the plug at precisely the right time ( unlike the 637 episodes of 'hilarity' that three's company came up with ). jo was cute, there was brilliant chemistry between the ropers, richard o'sullivan made it all look so easy, the scripts, whilst not exactly oscar wilde-standard, were consistently funny and chrissy was the most drop-dead gorgeous woman who has walked the face of this planet since the dead sea was merely feeling unwell. 'nuff said.\",\n",
              "        ...,\n",
              "        b\"sequels have a nasty habit of being disappointing, and the best credit i can give this is that it maintains that old tradition. these three tales aren't anything as good as any from the original creepshow.  by far the best of the trio involves a wooden idol which comes to life to take revenge on the thugs who killed its owners. the second story is about a lake monster which seems to be nothing more than a lot of floating slop, makes you wonder how anybody could possibly be scared of it. the third story includes a cameo from stephen king as a truck driver, but other than that is a pretty unmemorable tale concerning the victim of a road traffic accident who comes back from the dead for the person who knocked him down.  watch the original creepshow instead, or if you already have done then be happy with that.\",\n",
              "        b\"what is supposed to be a simple generic mystery plot involving a dead philanthropist is, in fact, a head-ache inducing tale about a bunch of characters (the only big actor being ginger rogers, in a very early role) all trying to find the murderer among a small cast of residents in a posh apartment building. these characters range from utterly stupid to downright mean. as a cheap, low budget production, most of the action revolves around rogers and her lead man (some guy, i don't care who he is 'cause he really sucked) talking about their various possibilities of solving the crime, while being constantly cut off by an absurd detective with his head in his butt. honestly, i've never had a worse time watching an old b-rate movie of this type, and i've seen some real head-slappers.  oh, and the butler didn't do it, because there wasn't a butler. but pay attention to the guy who's closest to a butler. there ya go.  --polarisdib\",\n",
              "        b'starring an unknown cast which seem likely to remain that way, this \"film\" is yet another cheap slasher flick which amazes me how this was released. i have no problem with horrors and slasher flicks in particular, in fact they are my favourites. but when they are done this bad, it really does take the monkey and its no wonder the genre has such a hard time. the story is as clich\\xc3\\xa9d and without imagination as possible with a bunch of people in a cabin out in the woods being slashed and hacked up by this zombie/ghost guy. its not the story that sucks the most, its the atrocious acting and dialouge, home made directing quality and an awful soundtrack. not to mention laughable effects and some incredibly lazy film making - these morons are outside in clear daylight yet we are meant to believe it\\'s night?? what the hell was the director thinking with this move? what, he had only one day to film all this in? he was scared of the dark? ( is hilarious seeing a cop walking around in pure daylight with a torch acting as if its pitch black, though)  i guess the positive side for the actors is they look like people who work in the local supermarket so at least they could possibly escape from this film without ever being noticed. im sure one of the \"teens\" plays bingo down the local pub - but she\\'s 40-45.  anyway, good for a laugh but just another waste of film and time.'],\n",
              "       [b'a short review but...  avoid at all costs, a thorough waste of 90mins. at the end of the film i was none the wiser as to what had actually happened. it\\'s full of cameos (stephen fry (3mins), jack dee (30 secs), the \"philadelphia\" girls) and some vaguely recognisable people but it just doesn\\'t make any sense. whether the story just got lost in the edit i don\\'t now but jeez...  put on a dvd instead or go to bed and get some rest!!!  2 out of 10 (for the cameos and a morris minor car chase)  ',\n",
              "        b\"first of all, the big named actors must need the money... the surgical scenes were laughable.... and surely they must know that people who have a little knowledge of medicine would find this utterly absurd......anesthesiologists do not leave the room during a heart transplant....nor do they do the surgery in a tiny room devoid of instruments, heart lung equipment and sterile techniques... just a joke... couldn't concentrate on the story line because of all the stupid surgery scenes... no blood, no personnel and then the hero doc coming in and taking over... it is not a film for thinking adults....also the budget must have been limited... the street scenes were ok but who was the technical adviser....seems like it was directed by a total idiot.. save your money and wait until it comes out on dvd and don't rent it..\",\n",
              "        b\"i feel totally ripped off. someone needs to refund the $4.95 i spent at blockbuster to rent this homemade mess. this is not a musical it is a complete waste of time and my evening. what i don't get is why did this get distributed in the first place???...somebody must have been doing some heavy drugs the night that deal was made. i've seen better films come out of film schools and i have been to film school so i can say that as a fact. the quality of this work is also just so very bad to view...shot on dv??? nuff said. the songs are not songs but just banter that sounds the same in every section. want to see a good musical? then don't rent this movie.\",\n",
              "        ...,\n",
              "        b\"first off, this really is my favorite film ever. i don't need to give anyone a description because every a**hole does that. i am literally obsessed with this practically bloodless, cheesy, lame effects having', boom-stick showing', badly edited, 80's metal horror masterpiece. the director (i heard) had hoped for a hit at the box office so that he could do sequels and have a freddy/jason type of deal for himself. damn, i wish that could've went down like that! the soundtrack's banging'. the acting's good....check this mofo out. and any die-hard fans out there, feel free to email and chat sometime. midgetorgy....i can be found at yahoo.\",\n",
              "        b'my kids recently started watching the reruns of this show - both the early episodes on the n, and the later ones on abc family - and they love it. (i wasn\\'t aware the show had even lasted past the first or second season) i\\'m curious as to what prompted all of the cast changes - i\\'ve seen them described as \"highly publicized,\" and yet a half hours searching efforts on the web have revealed nothing but endless comments on how the early episodes were so much better than the later episodes. (personally, i don\\'t see a whole lot of difference - the scripts and themes remain largely the same throughout - but they do lose some great people along the way) my daughter has put the dvds on her wish list, so perhaps the land of special features and commentary will shed some light on all of this. i also wish they\\'d done some self-referential humor about the changes - like on \"boy meets world\" where they drop the little sister for an entire season or so, and when a different actor later shows up playing her, they ask her where she\\'s been and she says \"upstairs,\" or when early series token geek \"minkus\" shows up for the high school graduation, they ask him where he\\'s been and he says \"over there,\" pointing to the part of the classroom never shown by the camera, before saying \"hey, mr. turner, wait up!\" and running off screen (mr. turner being another character who left) oh well - maybe there will be an e true hollywood story on this or something? i was just glad to see aunt hilda show up for the finale - she was always one of my favorites - it\\'s too bad it couldn\\'t have been a more encompassing cast reunion. (the zelda candle just didn\\'t cut it for me)',\n",
              "        b\"chris gerolmo took care not to simply give us a `jack-the-stripper' type of list of murdered people: he delved into the psychological characterization with convincing results. perhaps mostly due to stephen rea's excellent performance playing off against donald sutherland with good empathy by both. it was the playing of these two parts \\xc2\\x96 above all \\xc2\\x96 which made the film something more than just a morbid account of the history of the butcher of rostov. supporting actors, especially max von sydow, carried out their parts really well. good directing. the photography was good too. needless to say, the fact that the film was shot in hungary was bound to produce a couple of aberrations, but, frankly, given the depth of the story-telling and interpretations, we can completely forget these little trivialia.  for once, a made for tv film from hbo has come up trumps. recommended, especially if you like to analyse characteriology and forget some of the morbid scenes \\xc2\\x96 which, i hasten to add, are never exaggerated.\"]],\n",
              "      dtype=object)>"
            ]
          },
          "metadata": {
            "tags": []
          },
          "execution_count": 52
        }
      ]
    },
    {
      "cell_type": "code",
      "metadata": {
        "id": "eilEEF6AC1hn"
      },
      "source": [
        "def custom_standardization(input_data):\n",
        "  lowercase = tf.strings.lower(input_data)\n",
        "  stripped_html = tf.strings.regex_replace(lowercase, '<br />', ' ')\n",
        "  return tf.strings.regex_replace(stripped_html,\n",
        "                                  '[%s]' % re.escape(string.punctuation),\n",
        "                                  '')"
      ],
      "execution_count": 15,
      "outputs": []
    },
    {
      "cell_type": "markdown",
      "metadata": {
        "id": "EKUUcMiWKTA5"
      },
      "source": [
        "[TextVectorization](https://www.tensorflow.org/api_docs/python/tf/keras/layers/experimental/preprocessing/TextVectorization)"
      ]
    },
    {
      "cell_type": "code",
      "metadata": {
        "id": "5t4RmtMGEa_a"
      },
      "source": [
        "max_features = 10000\n",
        "sequence_length = 250\n",
        "\n",
        "vectorize_layer = TextVectorization(\n",
        "    standardize=textStandardization,\n",
        "    max_tokens=max_features,\n",
        "    output_mode='int',\n",
        "    output_sequence_length=sequence_length)"
      ],
      "execution_count": 53,
      "outputs": []
    },
    {
      "cell_type": "code",
      "metadata": {
        "id": "XMT4cs2UEnPo"
      },
      "source": [
        "# Make a text-only dataset (without labels), then call adapt\n",
        "train_text = raw_train_ds.map(lambda x, y: x)\n",
        "vectorize_layer.adapt(train_text)"
      ],
      "execution_count": 56,
      "outputs": []
    },
    {
      "cell_type": "code",
      "metadata": {
        "colab": {
          "base_uri": "https://localhost:8080/"
        },
        "id": "JzXq_V_AMTRa",
        "outputId": "ed104f6b-dabf-4a28-f3dd-220a8eb78ff9"
      },
      "source": [
        "text_batch[0].shape.as_list()"
      ],
      "execution_count": 66,
      "outputs": [
        {
          "output_type": "execute_result",
          "data": {
            "text/plain": [
              "[]"
            ]
          },
          "metadata": {
            "tags": []
          },
          "execution_count": 66
        }
      ]
    },
    {
      "cell_type": "code",
      "metadata": {
        "colab": {
          "base_uri": "https://localhost:8080/"
        },
        "id": "ldkCRAa5Ls09",
        "outputId": "f676922c-feae-4e00-ca40-2abce656e636"
      },
      "source": [
        "text_batch, label_batch = next(iter(raw_train_ds))\n",
        "tf.expand_dims(text_batch[0],-1).shape.as_list()"
      ],
      "execution_count": 62,
      "outputs": [
        {
          "output_type": "execute_result",
          "data": {
            "text/plain": [
              "[1]"
            ]
          },
          "metadata": {
            "tags": []
          },
          "execution_count": 62
        }
      ]
    },
    {
      "cell_type": "code",
      "metadata": {
        "id": "x6pD9V6OFE2l"
      },
      "source": [
        "def vectorize_text(text, label):\n",
        "  text = tf.expand_dims(text, -1)\n",
        "  return vectorize_layer(text), label"
      ],
      "execution_count": 82,
      "outputs": []
    },
    {
      "cell_type": "code",
      "metadata": {
        "colab": {
          "base_uri": "https://localhost:8080/"
        },
        "id": "SBXeeLz_JEnD",
        "outputId": "19ea5bfb-0830-47bc-c1e8-3aec68edb0ee"
      },
      "source": [
        "# retrieve a batch (of 32 reviews and labels) from the dataset. axis = 0\n",
        "text_batch, label_batch = next(iter(raw_train_ds))\n",
        "first_review, first_label = text_batch[0], label_batch[0]\n",
        "print(\"Review\", first_review)\n",
        "print(\"Label\", raw_train_ds.class_names[first_label])\n",
        "print(\"Vectorized review\", vectorize_text(first_review, first_label))"
      ],
      "execution_count": 70,
      "outputs": [
        {
          "output_type": "stream",
          "text": [
            "Review tf.Tensor(b\"My children watch the show everyday that its on. Its a great program for younger children. However they need to stop showing re-runs and do some more actual shows and get rid of Rooney's and Deedee's YELLOW TEETH. Moe is the only Doodle bop with clean white pearlie teeth and the children notice these things and ask if the 2 don't ever brush their teeth? Does the show ever make its way to the United States and if so where can we find its schedule at. And one other thing if we might be able to add. Moe you need to stop hiding so much. Sometimes when you pop up out of no where you scare the younger children and whats with the pulling of the rope? What does that signify? other then getting wet all the time. They need to add newer things to their show instead of the same ole same ole. Kids loose interest that way.\", shape=(), dtype=string)\n",
            "Label neg\n",
            "Vectorized review (<tf.Tensor: shape=(1, 250), dtype=int64, numpy=\n",
            "array([[  52,  572,  109,    2,  134, 3172,   11,   83,  668,   83,    3,\n",
            "          88, 2561,   15, 1190, 2533,  647,   32,  310,    6,  598,  765,\n",
            "           1,    4,   84,   45,   51,  661,  284,    4,   72, 4328,    5,\n",
            "           1,    4,    1, 5411,    1, 8484,    7,    2,   57,    1,    1,\n",
            "          16, 2840,  479,    1, 3528,    4,    2,  572, 1676,  121,  189,\n",
            "           4,  943,   44,    2,  379,   82,  124,    1,   58,    1,  111,\n",
            "           2,  134,  124,   89,   83,  108,    6,    2, 2317, 2150,    4,\n",
            "          44,   37,  105,   63,   68,  152,   83,    1, 3588,    4,   29,\n",
            "          79,  172,   44,   68,  211,   27,  434,    6,    1, 8484,   23,\n",
            "         310,    6,  598, 3476,   37, 1071,  501,   49,   23, 2050,   64,\n",
            "          47,    5,   59,  105,   23, 2398,    2, 1190,  572,    4, 5065,\n",
            "          16,    2, 3990,    5,    2,    1,   46,  111,   11,    1,   79,\n",
            "          93,  338, 5188,   33,    2,  255,   32,  310,    6,  722, 6148,\n",
            "         189,    6,   58,  134,  333,    5,    2,  162,    1,  162,    1,\n",
            "         400, 2199,  750,   11,  577,    0,    0,    0,    0,    0,    0,\n",
            "           0,    0,    0,    0,    0,    0,    0,    0,    0,    0,    0,\n",
            "           0,    0,    0,    0,    0,    0,    0,    0,    0,    0,    0,\n",
            "           0,    0,    0,    0,    0,    0,    0,    0,    0,    0,    0,\n",
            "           0,    0,    0,    0,    0,    0,    0,    0,    0,    0,    0,\n",
            "           0,    0,    0,    0,    0,    0,    0,    0,    0,    0,    0,\n",
            "           0,    0,    0,    0,    0,    0,    0,    0,    0,    0,    0,\n",
            "           0,    0,    0,    0,    0,    0,    0,    0,    0,    0,    0,\n",
            "           0,    0,    0,    0,    0,    0,    0,    0]])>, <tf.Tensor: shape=(), dtype=int32, numpy=0>)\n"
          ],
          "name": "stdout"
        }
      ]
    },
    {
      "cell_type": "code",
      "metadata": {
        "colab": {
          "base_uri": "https://localhost:8080/"
        },
        "id": "NIxqcJ-yM9Yy",
        "outputId": "b6ffd842-e0cb-4193-e320-1d39041727aa"
      },
      "source": [
        "# retrieve a batch (of 32 reviews and labels) from the dataset. axis = 1\n",
        "text_batch, label_batch = next(iter(raw_train_ds))\n",
        "first_review, first_label = text_batch[0], label_batch[0]\n",
        "print(\"Review\", first_review)\n",
        "print(\"Label\", raw_train_ds.class_names[first_label])\n",
        "print(\"Vectorized review\", vectorize_text(first_review, first_label))"
      ],
      "execution_count": 71,
      "outputs": [
        {
          "output_type": "stream",
          "text": [
            "Review tf.Tensor(b'What a lovely heart warming television movie. The story tells of a little five year old girl who has lost her daddy and finds it impossible to cope. Her mother is also very distressed ..only a miracle can alleviate their unhappiness.Which all viewers hope will materialise. Samantha Mathis is brilliant as the little girl\\'s mum ,as she was as the nanny in\" Jack and Sarah\",worth watching if you like both Samantha Mathis and happy; year tear jerking movies! Ellen Burstyn is, as, always a delightful grandmother in this tender and magnificently acted movie. Jodelle Ferland (the little five year old) is charming and a most convincing young actress. The film is based on a true story which makes it so touching.\"Mermaid\" is a tribute to the milk of human kindness which is clearly illustrated and clearly is still all around us in this difficult world we live in. \"Mermaid\" gives us all hope ,by realising that there a lot of lovely people in the world with lot\\'s of love to give. James Robson Glasgow Scotland U.K.', shape=(), dtype=string)\n",
            "Label pos\n",
            "Vectorized review (<tf.Tensor: shape=(1, 250), dtype=int64, numpy=\n",
            "array([[  46,    3, 1458,  672, 7892,  867,  106,    2,   75,  590,    5,\n",
            "           3,  104,  680,  386,  165,  288,   35,   41,  428,   42, 6707,\n",
            "           4,  551,   12, 1279,    6,    1,   42,  512,    7,   81,   50,\n",
            "           1,    1,    3, 6911,   63,    1,   58,    1,   33,  918,  410,\n",
            "          71,    1, 7740,    1,    7,  620,   14,    2,  104, 3870, 8133,\n",
            "           1,   53,   13,   14,    2,    1,    1,  706,    4,    1,  145,\n",
            "          44,   23,   36,  190, 7740,    1,    4,    1,  386, 4770,    1,\n",
            "        9334, 4856,    1,  387, 6847,  200,    3, 2023, 5037,    8,   10,\n",
            "        5002,    4,    1, 1298,  106,    1,    1,  396,  104,  680,  386,\n",
            "           1,    7, 1542,    4,    3,   78, 1297,  179, 3487,    2,   24,\n",
            "           7,  411,   18,    3,  299,   75,   62,  143,   12,   37,    1,\n",
            "           7,    3, 3525,    6,    2, 6663,    5,  382,    1,   62,    7,\n",
            "         642,    1,    4,  642,    7,  123,   33,  194,  188,    8,   10,\n",
            "         862,  230,   68,  422, 1006,    1,  345,  188,   33,  410,    1,\n",
            "           1,   11,   48,    3,  166,    5, 1458,   87,    8,    2,  230,\n",
            "          16,    1,    5,  118,    6,    1,  563,    1,    1, 7406,    1,\n",
            "           0,    0,    0,    0,    0,    0,    0,    0,    0,    0,    0,\n",
            "           0,    0,    0,    0,    0,    0,    0,    0,    0,    0,    0,\n",
            "           0,    0,    0,    0,    0,    0,    0,    0,    0,    0,    0,\n",
            "           0,    0,    0,    0,    0,    0,    0,    0,    0,    0,    0,\n",
            "           0,    0,    0,    0,    0,    0,    0,    0,    0,    0,    0,\n",
            "           0,    0,    0,    0,    0,    0,    0,    0,    0,    0,    0,\n",
            "           0,    0,    0,    0,    0,    0,    0,    0]])>, <tf.Tensor: shape=(), dtype=int32, numpy=1>)\n"
          ],
          "name": "stdout"
        }
      ]
    },
    {
      "cell_type": "code",
      "metadata": {
        "colab": {
          "base_uri": "https://localhost:8080/"
        },
        "id": "bzrK-9RnNIbT",
        "outputId": "f5abcedf-f555-42fa-f16b-52c285f7b7ea"
      },
      "source": [
        "# retrieve a batch (of 32 reviews and labels) from the dataset. axis = -1\n",
        "text_batch, label_batch = next(iter(raw_train_ds))\n",
        "first_review, first_label = text_batch[0], label_batch[0]\n",
        "print(\"Review\", first_review)\n",
        "print(\"Label\", raw_train_ds.class_names[first_label])\n",
        "print(\"Vectorized review\", vectorize_text(first_review, first_label))"
      ],
      "execution_count": 83,
      "outputs": [
        {
          "output_type": "stream",
          "text": [
            "Review tf.Tensor(b'I try to be very objective when I view a low budget movie. I also apply a lower weight to independent and low budget productions versus the big budget productions. I expect near flawlessness from big budget productions and their studios. Therefore I apply tougher criteria to the major studio releases. But this movie was just a dud. Period. The premise was terrible. The main character, Mary Gordano (Alicia Silverstone), was unbelievable as a high school senior with an unquenchable desire to solve crimes. There was not enough depth in her character or her acting that pulled you into her world. Also, to make this movie more mysterious, the lighting in certain scenes did not set the mood, especially in the warehouse.<br /><br />Once again another disappointing movie that I could only give three points to.', shape=(), dtype=string)\n",
            "Label neg\n",
            "Vectorized review (<tf.Tensor: shape=(1, 250), dtype=int64, numpy=\n",
            "array([[   9,  318,    6,   27,   50, 7164,   49,    9,  792,    3,  466,\n",
            "         486,  106,    9,   81, 7698,    3, 2324, 4360,    6, 1731,    4,\n",
            "         466,  486, 3991, 4826,    2,  195,  486,    1,    9,  521,  716,\n",
            "           1,   34,  195,  486, 3991,    4,   58,    1, 1974,    9, 7698,\n",
            "           1,    1,    6,    2,  595, 1338,    1,   17,   10,   19,   13,\n",
            "          38,    3,    1, 2989,    2,  989,   13, 1641,    2,  253,  812,\n",
            "        1300,    1,    1,    1,   13, 1895,   14,    3,  316,  484, 8279,\n",
            "          16,   31,    1, 1939,    6, 3776,    1,   48,   13,   21,  217,\n",
            "        1323,    8,   42,  119,   39,   42,  131,   11, 1858,   23,   73,\n",
            "          42,  990,  694,    6,   89,   10,   19,   51,    1,    2, 2019,\n",
            "           8,  719,  159,  112,   21,  282,    2,    1,  259,    8,    2,\n",
            "           1,  287,  302,  158, 1855,   19,   11,    9,   91,   57,  176,\n",
            "         280,  919, 1386,    0,    0,    0,    0,    0,    0,    0,    0,\n",
            "           0,    0,    0,    0,    0,    0,    0,    0,    0,    0,    0,\n",
            "           0,    0,    0,    0,    0,    0,    0,    0,    0,    0,    0,\n",
            "           0,    0,    0,    0,    0,    0,    0,    0,    0,    0,    0,\n",
            "           0,    0,    0,    0,    0,    0,    0,    0,    0,    0,    0,\n",
            "           0,    0,    0,    0,    0,    0,    0,    0,    0,    0,    0,\n",
            "           0,    0,    0,    0,    0,    0,    0,    0,    0,    0,    0,\n",
            "           0,    0,    0,    0,    0,    0,    0,    0,    0,    0,    0,\n",
            "           0,    0,    0,    0,    0,    0,    0,    0,    0,    0,    0,\n",
            "           0,    0,    0,    0,    0,    0,    0,    0,    0,    0,    0,\n",
            "           0,    0,    0,    0,    0,    0,    0,    0]])>, <tf.Tensor: shape=(), dtype=int32, numpy=0>)\n"
          ],
          "name": "stdout"
        }
      ]
    },
    {
      "cell_type": "code",
      "metadata": {
        "id": "a8PYWoV1JmSY"
      },
      "source": [
        "train_ds = raw_train_ds.map(vectorize_text)\n",
        "val_ds = raw_val_ds.map(vectorize_text)\n",
        "test_ds = raw_test_ds.map(vectorize_text)"
      ],
      "execution_count": 84,
      "outputs": []
    },
    {
      "cell_type": "code",
      "metadata": {
        "id": "Jp-vo9W6JNL-"
      },
      "source": [
        "AUTOTUNE = tf.data.AUTOTUNE\n",
        "\n",
        "train_ds = train_ds.cache().prefetch(buffer_size=AUTOTUNE)\n",
        "val_ds = val_ds.cache().prefetch(buffer_size=AUTOTUNE)\n",
        "test_ds = test_ds.cache().prefetch(buffer_size=AUTOTUNE)"
      ],
      "execution_count": 85,
      "outputs": []
    },
    {
      "cell_type": "code",
      "metadata": {
        "colab": {
          "base_uri": "https://localhost:8080/"
        },
        "id": "flW7H5JtJjGt",
        "outputId": "71cc8b1f-bb32-463f-a110-b316e49dd3d3"
      },
      "source": [
        "train_ds"
      ],
      "execution_count": 76,
      "outputs": [
        {
          "output_type": "execute_result",
          "data": {
            "text/plain": [
              "<PrefetchDataset shapes: ((None, 250), (None,)), types: (tf.int64, tf.int32)>"
            ]
          },
          "metadata": {
            "tags": []
          },
          "execution_count": 76
        }
      ]
    },
    {
      "cell_type": "code",
      "metadata": {
        "colab": {
          "base_uri": "https://localhost:8080/"
        },
        "id": "ytXpuyQbJuTo",
        "outputId": "6b8f210c-15d2-4e10-8234-06e41c70285b"
      },
      "source": [
        "print(\"1287 ---> \",vectorize_layer.get_vocabulary()[1287])\n",
        "print(\" 9999 ---> \",vectorize_layer.get_vocabulary()[9999])\n",
        "print('Vocabulary size: {}'.format(len(vectorize_layer.get_vocabulary())))"
      ],
      "execution_count": 78,
      "outputs": [
        {
          "output_type": "stream",
          "text": [
            "1287 --->  concept\n",
            " 9999 --->  villains.\n",
            "Vocabulary size: 10000\n"
          ],
          "name": "stdout"
        }
      ]
    },
    {
      "cell_type": "code",
      "metadata": {
        "colab": {
          "base_uri": "https://localhost:8080/"
        },
        "id": "Kb77NvgONhLL",
        "outputId": "b5e1857f-d548-472d-d8e5-99ecc76aca27"
      },
      "source": [
        "model = tf.keras.Sequential([\n",
        "  layers.Embedding(max_features + 1, embedding_dim),\n",
        "  layers.Dropout(0.2),\n",
        "  layers.GlobalAveragePooling1D(),\n",
        "  layers.Dropout(0.2),\n",
        "  layers.Dense(1)])\n",
        "\n",
        "model.summary()"
      ],
      "execution_count": 86,
      "outputs": [
        {
          "output_type": "stream",
          "text": [
            "Model: \"sequential_1\"\n",
            "_________________________________________________________________\n",
            "Layer (type)                 Output Shape              Param #   \n",
            "=================================================================\n",
            "embedding_1 (Embedding)      (None, None, 16)          160016    \n",
            "_________________________________________________________________\n",
            "dropout_2 (Dropout)          (None, None, 16)          0         \n",
            "_________________________________________________________________\n",
            "global_average_pooling1d_1 ( (None, 16)                0         \n",
            "_________________________________________________________________\n",
            "dropout_3 (Dropout)          (None, 16)                0         \n",
            "_________________________________________________________________\n",
            "dense_1 (Dense)              (None, 1)                 17        \n",
            "=================================================================\n",
            "Total params: 160,033\n",
            "Trainable params: 160,033\n",
            "Non-trainable params: 0\n",
            "_________________________________________________________________\n"
          ],
          "name": "stdout"
        }
      ]
    },
    {
      "cell_type": "code",
      "metadata": {
        "id": "DJX-KzZ_NxjA"
      },
      "source": [
        "model.compile(loss=losses.BinaryCrossentropy(from_logits=True),\n",
        "              optimizer='adam',\n",
        "              metrics=tf.metrics.BinaryAccuracy(threshold=0.0))"
      ],
      "execution_count": 87,
      "outputs": []
    },
    {
      "cell_type": "code",
      "metadata": {
        "colab": {
          "base_uri": "https://localhost:8080/"
        },
        "id": "pLV4GUXXOADQ",
        "outputId": "a477f1ff-b655-4059-8925-1b61b314a5c3"
      },
      "source": [
        "epochs = 10\n",
        "history = model.fit(\n",
        "    train_ds,\n",
        "    validation_data=val_ds,\n",
        "    epochs=epochs)"
      ],
      "execution_count": 88,
      "outputs": [
        {
          "output_type": "stream",
          "text": [
            "Epoch 1/10\n",
            "625/625 [==============================] - 13s 20ms/step - loss: 0.6710 - binary_accuracy: 0.6734 - val_loss: 0.6312 - val_binary_accuracy: 0.7582\n",
            "Epoch 2/10\n",
            "625/625 [==============================] - 5s 8ms/step - loss: 0.5723 - binary_accuracy: 0.7840 - val_loss: 0.5246 - val_binary_accuracy: 0.8064\n",
            "Epoch 3/10\n",
            "625/625 [==============================] - 5s 8ms/step - loss: 0.4733 - binary_accuracy: 0.8277 - val_loss: 0.4474 - val_binary_accuracy: 0.8388\n",
            "Epoch 4/10\n",
            "625/625 [==============================] - 5s 8ms/step - loss: 0.4054 - binary_accuracy: 0.8546 - val_loss: 0.3990 - val_binary_accuracy: 0.8532\n",
            "Epoch 5/10\n",
            "625/625 [==============================] - 5s 8ms/step - loss: 0.3610 - binary_accuracy: 0.8680 - val_loss: 0.3683 - val_binary_accuracy: 0.8614\n",
            "Epoch 6/10\n",
            "625/625 [==============================] - 5s 8ms/step - loss: 0.3282 - binary_accuracy: 0.8812 - val_loss: 0.3476 - val_binary_accuracy: 0.8656\n",
            "Epoch 7/10\n",
            "625/625 [==============================] - 5s 8ms/step - loss: 0.3035 - binary_accuracy: 0.8890 - val_loss: 0.3328 - val_binary_accuracy: 0.8694\n",
            "Epoch 8/10\n",
            "625/625 [==============================] - 5s 8ms/step - loss: 0.2828 - binary_accuracy: 0.8960 - val_loss: 0.3223 - val_binary_accuracy: 0.8728\n",
            "Epoch 9/10\n",
            "625/625 [==============================] - 5s 8ms/step - loss: 0.2651 - binary_accuracy: 0.9020 - val_loss: 0.3146 - val_binary_accuracy: 0.8746\n",
            "Epoch 10/10\n",
            "625/625 [==============================] - 5s 8ms/step - loss: 0.2490 - binary_accuracy: 0.9089 - val_loss: 0.3090 - val_binary_accuracy: 0.8744\n"
          ],
          "name": "stdout"
        }
      ]
    },
    {
      "cell_type": "code",
      "metadata": {
        "colab": {
          "base_uri": "https://localhost:8080/"
        },
        "id": "fjDK6GRGODPQ",
        "outputId": "a218f9e1-6166-4780-a40f-9074f78f7711"
      },
      "source": [
        "loss, accuracy = model.evaluate(test_ds)\n",
        "\n",
        "print(\"Loss: \", loss)\n",
        "print(\"Accuracy: \", accuracy)"
      ],
      "execution_count": 89,
      "outputs": [
        {
          "output_type": "stream",
          "text": [
            "782/782 [==============================] - 9s 11ms/step - loss: 0.2478 - binary_accuracy: 0.9073\n",
            "Loss:  0.247764453291893\n",
            "Accuracy:  0.9073200225830078\n"
          ],
          "name": "stdout"
        }
      ]
    },
    {
      "cell_type": "code",
      "metadata": {
        "colab": {
          "base_uri": "https://localhost:8080/"
        },
        "id": "yl9aK_UcOzmr",
        "outputId": "2cdf4eeb-9de2-4ddd-99a9-8cbc7215ac04"
      },
      "source": [
        "history_dict = history.history\n",
        "history_dict.keys()"
      ],
      "execution_count": 93,
      "outputs": [
        {
          "output_type": "execute_result",
          "data": {
            "text/plain": [
              "dict_keys(['loss', 'binary_accuracy', 'val_loss', 'val_binary_accuracy'])"
            ]
          },
          "metadata": {
            "tags": []
          },
          "execution_count": 93
        }
      ]
    },
    {
      "cell_type": "code",
      "metadata": {
        "colab": {
          "base_uri": "https://localhost:8080/",
          "height": 295
        },
        "id": "kso3fUNLOemv",
        "outputId": "7bf5ed52-7f34-4f95-b3c5-cacea9243d3e"
      },
      "source": [
        "acc = history_dict['binary_accuracy']\n",
        "val_acc = history_dict['val_binary_accuracy']\n",
        "loss = history_dict['loss']\n",
        "val_loss = history_dict['val_loss']\n",
        "\n",
        "epochs = range(1, len(acc) + 1)\n",
        "\n",
        "# \"bo\" is for \"blue dot\"\n",
        "plt.plot(epochs, loss, 'bo', label='Training loss')\n",
        "# b is for \"solid blue line\"\n",
        "plt.plot(epochs, val_loss, 'b', label='Validation loss')\n",
        "plt.title('Training and validation loss')\n",
        "plt.xlabel('Epochs')\n",
        "plt.ylabel('Loss')\n",
        "plt.legend()\n",
        "\n",
        "plt.show()"
      ],
      "execution_count": 94,
      "outputs": [
        {
          "output_type": "display_data",
          "data": {
            "image/png": "[encoded data removed]",
            "text/plain": [
              "<Figure size 432x288 with 1 Axes>"
            ]
          },
          "metadata": {
            "tags": [],
            "needs_background": "light"
          }
        }
      ]
    },
    {
      "cell_type": "code",
      "metadata": {
        "colab": {
          "base_uri": "https://localhost:8080/",
          "height": 295
        },
        "id": "8OmUXwLYOh9Z",
        "outputId": "5889ab27-68b1-4cb6-e224-db31f98412e1"
      },
      "source": [
        "plt.plot(epochs, acc, 'bo', label='Training acc')\n",
        "plt.plot(epochs, val_acc, 'b', label='Validation acc')\n",
        "plt.title('Training and validation accuracy')\n",
        "plt.xlabel('Epochs')\n",
        "plt.ylabel('Accuracy')\n",
        "plt.legend(loc='lower right')\n",
        "\n",
        "plt.show()"
      ],
      "execution_count": 95,
      "outputs": [
        {
          "output_type": "display_data",
          "data": {
            "image/png": "[encoded data removed]",
            "text/plain": [
              "<Figure size 432x288 with 1 Axes>"
            ]
          },
          "metadata": {
            "tags": [],
            "needs_background": "light"
          }
        }
      ]
    },
    {
      "cell_type": "code",
      "metadata": {
        "colab": {
          "base_uri": "https://localhost:8080/"
        },
        "id": "HNYCduMjO_sq",
        "outputId": "18815937-61a0-4827-b2f4-6e63ea4bd696"
      },
      "source": [
        "export_model = tf.keras.Sequential([\n",
        "  vectorize_layer,\n",
        "  model,\n",
        "  layers.Activation('sigmoid')\n",
        "])\n",
        "\n",
        "export_model.compile(\n",
        "    loss=losses.BinaryCrossentropy(from_logits=False), optimizer=\"adam\", metrics=['accuracy']\n",
        ")\n",
        "\n",
        "# Test it with `raw_test_ds`, which yields raw strings\n",
        "loss, accuracy = export_model.evaluate(raw_test_ds)\n",
        "print(accuracy)"
      ],
      "execution_count": 99,
      "outputs": [
        {
          "output_type": "stream",
          "text": [
            "782/782 [==============================] - 10s 12ms/step - loss: 0.2478 - accuracy: 0.9073\n",
            "0.9073200225830078\n"
          ],
          "name": "stdout"
        }
      ]
    },
    {
      "cell_type": "code",
      "metadata": {
        "id": "aZodmCz3PCgW"
      },
      "source": [
        "examples = [\n",
        "  \"The movie was great!\",\n",
        "  \"The movie was okay.\",\n",
        "  \"The movie was bad in every possible way\"\n",
        "]\n",
        "\n",
        "predictions = export_model.predict(examples)"
      ],
      "execution_count": 102,
      "outputs": []
    },
    {
      "cell_type": "code",
      "metadata": {
        "colab": {
          "base_uri": "https://localhost:8080/"
        },
        "id": "0e-LkWIHPY-z",
        "outputId": "a45d31fe-bbf7-40b0-b42c-5c27ca81d058"
      },
      "source": [
        "for review, prediction in zip(examples, predictions):\n",
        "  if prediction >= 0.5:\n",
        "    print(review,': Positive review')\n",
        "  else:\n",
        "    print(review,': Negatvie review')"
      ],
      "execution_count": 106,
      "outputs": [
        {
          "output_type": "stream",
          "text": [
            "The movie was great! : Positive review\n",
            "The movie was okay. : Positive review\n",
            "The movie was bad in every possible way : Negatvie review\n"
          ],
          "name": "stdout"
        }
      ]
    },
    {
      "cell_type": "code",
      "metadata": {
        "id": "HdcOF1jaQKCW"
      },
      "source": [
        ""
      ],
      "execution_count": null,
      "outputs": []
    }
  ]
}